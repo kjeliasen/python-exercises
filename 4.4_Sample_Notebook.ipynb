{
 "cells": [
  {
   "cell_type": "code",
   "execution_count": 24,
   "metadata": {},
   "outputs": [
    {
     "name": "stdout",
     "output_type": "stream",
     "text": [
      "Check:     53.42\n",
      "Tip:       16.58 (Base Tip:  11.67)\n",
      "Total:     70.00\n",
      "final tip is 35.5%\n"
     ]
    }
   ],
   "source": [
    "def calculate_tip(check_amount, tip_percent=.2, tax_amount=0, round_to_dollar=0):\n",
    "    \"\"\"\n",
    "    Calculates tip based on check amount and target tip percentage. Allows choice\n",
    "    of tip percentage (defaults to .2 - 20%), removal of tax from the tip\n",
    "    calculation, and the ability to round the final payment up to a set dollar\n",
    "    multiple (e.g. nearest whole dollar, nearest $5, nearest $10) (or down if \n",
    "    less than 10% of the initially-calculated tip)\n",
    "    \"\"\"\n",
    "    tippable_amount = round(check_amount - tax_amount, 2)\n",
    "    base_tip_amount = round(tippable_amount * tip_percent, 2)\n",
    "    base_pay_amount = check_amount + base_tip_amount\n",
    "    if round_to_dollar == 0:\n",
    "        plus_round = 0\n",
    "    else:\n",
    "        above_round = base_pay_amount % round_to_dollar\n",
    "        if above_round <= base_tip_amount * .10:\n",
    "            plus_round = -(above_round)\n",
    "        else:\n",
    "            plus_round = round_to_dollar - above_round\n",
    "    tip_amount = base_tip_amount + plus_round\n",
    "    pay_amount = check_amount + tip_amount\n",
    "    output_format = 'Check: {Check:>9.2f}\\nTip: {Tip:>11.2f} (Base Tip: {BT:>6.2f})\\nTotal: {Total:>9.2f}'\n",
    "    print(output_format.format(Check=check_amount, BT=base_tip_amount, Tip=tip_amount, Total=pay_amount))\n",
    "    if plus_round:\n",
    "        print('final tip is {:.1f}%'.format(100*tip_amount/tippable_amount))\n",
    "    return tip_amount, check_amount\n",
    "\n",
    "to_tip, to_pay = calculate_tip(53.42,.25,6.75,10)"
   ]
  },
  {
   "cell_type": "code",
   "execution_count": null,
   "metadata": {},
   "outputs": [],
   "source": []
  }
 ],
 "metadata": {
  "kernelspec": {
   "display_name": "Python 3",
   "language": "python",
   "name": "python3"
  },
  "language_info": {
   "codemirror_mode": {
    "name": "ipython",
    "version": 3
   },
   "file_extension": ".py",
   "mimetype": "text/x-python",
   "name": "python",
   "nbconvert_exporter": "python",
   "pygments_lexer": "ipython3",
   "version": "3.7.3"
  }
 },
 "nbformat": 4,
 "nbformat_minor": 2
}
