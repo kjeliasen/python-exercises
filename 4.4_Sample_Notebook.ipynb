{
 "cells": [
  {
   "cell_type": "code",
   "execution_count": null,
   "metadata": {},
   "outputs": [],
   "source": [
    "grades = {\n",
    "    'A': range(90, 101),\n",
    "    'B': range(80, 90),\n",
    "    'C': range(70, 80),\n",
    "    'D': range(60, 70),\n",
    "    'F': range(0, 60)\n",
    "}\n",
    "\n",
    "def get_letter_grade(n):\n",
    "    for grade_letter, grade_range in grades.items()\n",
    "        if round(n) in grade_range:\n",
    "            return grade_letter\n",
    "    return 'ACK! No answer for ' + n + '%'\n"
   ]
  },
  {
   "cell_type": "code",
   "execution_count": 97,
   "metadata": {},
   "outputs": [],
   "source": [
    "def calculate_tip(check_amount, tip_percent=.2, tax_amount=0, round_to_dollar=0):\n",
    "    \"\"\"\n",
    "        Calculates tip based on check amount and target tip percentage. Allows choice\n",
    "        of tip percentage (defaults to .2 - 20%), removal of tax from the tip\n",
    "        calculation, and the ability to round the final payment up to a set dollar\n",
    "        multiple (e.g. nearest whole dollar, nearest $5, nearest $10) (or down if \n",
    "        less than 10% of the initially-calculated tip)\n",
    "    \"\"\"\n",
    "    tippable_amount = round(check_amount - tax_amount, 2)\n",
    "    base_tip_amount = round(tippable_amount * tip_percent, 2)\n",
    "    base_pay_amount = check_amount + base_tip_amount\n",
    "    if round_to_dollar == 0:\n",
    "        plus_round = 0\n",
    "    else:\n",
    "        above_round = base_pay_amount % round_to_dollar\n",
    "        if above_round <= base_tip_amount * .10:\n",
    "            plus_round = -(above_round)\n",
    "        else:\n",
    "            plus_round = round_to_dollar - above_round\n",
    "    tip_amount = base_tip_amount + plus_round\n",
    "    pay_amount = check_amount + tip_amount\n",
    "    output_format = 'Check: {Check:>9.2f}\\nTip: {Tip:>11.2f} (Base Tip: {BT:>6.2f})\\nTotal: {Total:>9.2f}'\n",
    "    print(output_format.format(Check=check_amount, BT=base_tip_amount, Tip=tip_amount, Total=pay_amount))\n",
    "    if plus_round:\n",
    "        print('final tip is {:.1f}%'.format(100*tip_amount/tippable_amount))\n",
    "    return tip_amount, check_amount\n",
    "\n",
    "#to_tip = calculate_tip(53.42,.25,6.75,1)\n",
    "\n",
    "calculate_tip?"
   ]
  },
  {
   "cell_type": "code",
   "execution_count": 28,
   "metadata": {},
   "outputs": [
    {
     "name": "stdout",
     "output_type": "stream",
     "text": [
      "1793452.0\n"
     ]
    }
   ],
   "source": [
    "def handle_commas(chars):\n",
    "    return float(chars.replace(',', ''))\n",
    "\n",
    "print(handle_commas('1,793,452'))"
   ]
  },
  {
   "cell_type": "code",
   "execution_count": 30,
   "metadata": {},
   "outputs": [
    {
     "name": "stdout",
     "output_type": "stream",
     "text": [
      "BbCcDdFfGgHhJjKkLlMmNnPpQqRrSsTtVvWwXxYyZz\n"
     ]
    }
   ],
   "source": [
    "def remove_vowels(chars):\n",
    "    for vowel in 'aeiouAEIOU':\n",
    "        chars = chars.replace(vowel,'')\n",
    "\n",
    "    return chars\n",
    "\n",
    "print(remove_vowels('AaBbCcDdEeFfGgHhIiJjKkLlMmNnOoPpQqRrSsTtUuVvWwXxYyZz'))"
   ]
  },
  {
   "cell_type": "code",
   "execution_count": 104,
   "metadata": {},
   "outputs": [
    {
     "name": "stdout",
     "output_type": "stream",
     "text": [
      "[Hi! My name is Kevin] becomes [hi_my_name_is_kevin]\n",
      "[% Complete] becomes [complete]\n",
      "[   yippee!!!  ] becomes [yippee]\n",
      "No change needed to [this_is_just_fine]\n",
      "[7_how'sthis?] becomes [_7_howsthis]\n"
     ]
    }
   ],
   "source": [
    "def normalize_name(target_name):\n",
    "    \"\"\"\n",
    "    10. Define a function named normalize_name. It should accept a string and \n",
    "    return a valid python identifier, that is:\n",
    "        * anything that is not a valid python identifier should be removed\n",
    "        * leading and trailing whitespace should be removed\n",
    "        * everything should be lowercase\n",
    "        * spaces should be replaced with underscores\n",
    "    \n",
    "    for example:    \n",
    "    >>> normalize_name('Name')\n",
    "    'name'\n",
    "    >>> normalize_name('First Name  ')\n",
    "    'first_name'\n",
    "    >>> normalize_name('% Completed')\n",
    "    'completed'\n",
    "\n",
    "    \"\"\"\n",
    "    valid_chars = 'abcdefghijklmnopqrstuvwxyz0123456789_ '\n",
    "    in_process_name = target_name.lower()\n",
    "    name_list = []\n",
    "    new_name = ''\n",
    "    for test in in_process_name:\n",
    "        if test in valid_chars:\n",
    "            name_list.append(test)\n",
    "    new_name = ''.join(name_list).strip().replace(' ','_')\n",
    "    if not new_name.isidentifier():\n",
    "        new_name = '_' + new_name\n",
    "    if new_name == target_name:\n",
    "        print('No change needed to [{}]'.format(target_name))\n",
    "    else:\n",
    "        print('[{}] becomes [{}]'.format(target_name,new_name))\n",
    "    return new_name\n",
    "\n",
    "assert normalize_name('Hi! My name is Kevin') == 'hi_my_name_is_kevin'\n",
    "assert normalize_name('% Complete') == 'complete'\n",
    "assert normalize_name('   yippee!!!  ') == 'yippee'\n",
    "assert normalize_name('this_is_just_fine') == 'this_is_just_fine'\n",
    "assert normalize_name('7_how\\'sthis?') == '_7_howsthis'"
   ]
  },
  {
   "cell_type": "code",
   "execution_count": 41,
   "metadata": {},
   "outputs": [
    {
     "name": "stdout",
     "output_type": "stream",
     "text": [
      "[0, 1, 3, 6, 10, 15]\n"
     ]
    }
   ],
   "source": [
    "def cumsum(list):\n",
    "    runsum = 0\n",
    "    sumrun = []\n",
    "    for item in list:\n",
    "        runsum = runsum + item\n",
    "        sumrun.append(runsum)\n",
    "    return sumrun\n",
    "\n",
    "print(cumsum([0,1,2,3,4,5]))"
   ]
  },
  {
   "cell_type": "code",
   "execution_count": 64,
   "metadata": {},
   "outputs": [
    {
     "name": "stdout",
     "output_type": "stream",
     "text": [
      "4:30pm becomes 16:30\n",
      "10:30am becomes 10:30\n",
      "10:30PM becomes 22:30\n",
      "1:30PM becomes 13:30\n",
      "1:30aM becomes 01:30\n",
      "12:00aM becomes 12:00\n",
      "12:00PM becomes 00:00\n"
     ]
    },
    {
     "data": {
      "text/plain": [
       "'00:00'"
      ]
     },
     "execution_count": 64,
     "metadata": {},
     "output_type": "execute_result"
    }
   ],
   "source": [
    "def twelveto24(time_12):\n",
    "    hour_value = int(time_12[:-5])\n",
    "    minute_value = int(time_12[-4:-2])\n",
    "    is_pm = time_12.lower().endswith('pm')\n",
    "    if is_pm:\n",
    "        hour_value = hour_value + 12 \n",
    "    if hour_value == 24:\n",
    "        hour_value = 0 \n",
    "    time_24 = '{H:02d}:{M:02d}'.format(H=hour_value, M=minute_value)\n",
    "    print ('{} becomes {}'.format(time_12, time_24))\n",
    "    return time_24\n",
    "    \n",
    "twelveto24('4:30pm')\n",
    "twelveto24('10:30am')\n",
    "twelveto24('10:30PM')\n",
    "twelveto24('1:30PM')\n",
    "twelveto24('1:30aM')\n",
    "twelveto24('12:00aM')\n",
    "twelveto24('12:00PM')"
   ]
  },
  {
   "cell_type": "code",
   "execution_count": 62,
   "metadata": {},
   "outputs": [
    {
     "name": "stdout",
     "output_type": "stream",
     "text": [
      "04:30 becomes 4:30AM\n",
      "23:59 becomes 11:59PM\n",
      "01:30 becomes 1:30AM\n",
      "13:30 becomes 1:30PM\n",
      "24:00 becomes 12:00PM\n",
      "12:00 becomes 12:00PM\n",
      "00:00 becomes 12:00AM\n"
     ]
    },
    {
     "data": {
      "text/plain": [
       "'00:00'"
      ]
     },
     "execution_count": 62,
     "metadata": {},
     "output_type": "execute_result"
    }
   ],
   "source": [
    "def twelvefrom24(time_24):\n",
    "    hour_value = int(time_24[:-3])\n",
    "    minute_value = int(time_24[-2:])\n",
    "    am_pm = 'PM' if hour_value > 11 else 'AM'\n",
    "    if hour_value > 11:\n",
    "        hour_value = hour_value - 12\n",
    "    if hour_value == 0:\n",
    "        hour_value = 12 \n",
    "    time_12 = '{H:d}:{M:02d}{AP}'.format(H=hour_value, M=minute_value,AP=am_pm)\n",
    "    print ('{} becomes {}'.format(time_24, time_12))\n",
    "    return time_12\n",
    "\n",
    "    \n",
    "twelvefrom24('04:30')\n",
    "twelvefrom24('23:59')\n",
    "twelvefrom24('01:30')\n",
    "twelvefrom24('13:30')\n",
    "twelvefrom24('24:00')\n",
    "twelvefrom24('12:00')\n",
    "twelvefrom24('00:00')"
   ]
  },
  {
   "cell_type": "code",
   "execution_count": 88,
   "metadata": {},
   "outputs": [
    {
     "name": "stdout",
     "output_type": "stream",
     "text": [
      "a 1 \n",
      "\n",
      "C 3 \n",
      "\n",
      "Z 26 \n",
      "\n",
      "AA 27 \n",
      "\n",
      "AZ 52 \n",
      "\n",
      "BA 53 \n",
      "\n",
      "ZZ 702 \n",
      "\n",
      "AAA 703 \n",
      "\n",
      "AZZ 1378 \n",
      "\n",
      "BAA 1379 \n",
      "\n"
     ]
    },
    {
     "data": {
      "text/plain": [
       "1379"
      ]
     },
     "execution_count": 88,
     "metadata": {},
     "output_type": "execute_result"
    }
   ],
   "source": [
    "check_str = 'abcdefghijklmnopqrstuvwxyz'\n",
    "\n",
    "def col_index(col_ltrs):\n",
    "    flip_ltrs = reversed(col_ltrs.lower())\n",
    "    on_idx = 0\n",
    "    run_tot = 0\n",
    "    for ltr in flip_ltrs:\n",
    "        ltr_num = check_str.find(ltr) + 1\n",
    "        ltr_val = ltr_num * (26 ** on_idx)\n",
    "        on_idx += 1\n",
    "        run_tot += ltr_val\n",
    "    print(col_ltrs, run_tot, '\\n')\n",
    "    return run_tot\n",
    "\n",
    "col_index('a')\n",
    "col_index('C')\n",
    "col_index('Z')\n",
    "col_index('AA')\n",
    "col_index('AZ')\n",
    "col_index('BA')\n",
    "col_index('ZZ')\n",
    "col_index('AAA')\n",
    "col_index('AZZ')\n",
    "col_index('BAA')"
   ]
  },
  {
   "cell_type": "code",
   "execution_count": null,
   "metadata": {},
   "outputs": [],
   "source": []
  }
 ],
 "metadata": {
  "kernelspec": {
   "display_name": "Python 3",
   "language": "python",
   "name": "python3"
  },
  "language_info": {
   "codemirror_mode": {
    "name": "ipython",
    "version": 3
   },
   "file_extension": ".py",
   "mimetype": "text/x-python",
   "name": "python",
   "nbconvert_exporter": "python",
   "pygments_lexer": "ipython3",
   "version": "3.7.3"
  }
 },
 "nbformat": 4,
 "nbformat_minor": 2
}
