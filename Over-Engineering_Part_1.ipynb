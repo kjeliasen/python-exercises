{
 "cells": [
  {
   "cell_type": "code",
   "execution_count": 7,
   "metadata": {},
   "outputs": [
    {
     "name": "stdout",
     "output_type": "stream",
     "text": [
      "Enter a galldanged day: Monday\n",
      "Yeehaw! Monday sure is a Monday.\n",
      "Yeehaw! Monday sure is a weekday.\n",
      "Shucks. Monday ain't a weekend.\n"
     ]
    }
   ],
   "source": [
    "days = ('Monday', 'Tuesday', 'Wednesday', 'Thursday', 'Friday', 'Saturday', 'Sunday')\n",
    "\n",
    "weekday_days = days[:5]\n",
    "weekend_days = days[5:]\n",
    "\n",
    "output_format = '{emphasis} {for_use} {use_is} a {kind}.'\n",
    "\n",
    "clauses = {\n",
    "    True: ('Yeehaw!', 'sure is'),\n",
    "    False: ('Shucks.', 'ain\\'t')\n",
    "}\n",
    "\n",
    "\n",
    "def day_is_weekend(day):\n",
    "    return day in weekend_days\n",
    "\n",
    "\n",
    "def day_is_day(day):\n",
    "    return day in weekday_days\n",
    "\n",
    "\n",
    "def get_user_day():\n",
    "    user_input_day = input('Enter a galldanged day: ').capitalize()\n",
    "    bailout = 0\n",
    "    while user_input_day not in days:\n",
    "        print(f\"I said a galldanged day, dammit! {user_input_day} ain't no day!\")\n",
    "        if bailout < 3:\n",
    "            user_input_day = input('Enter a real galldanged day: ').capitalize()\n",
    "            bailout += 1\n",
    "        else:\n",
    "            user_input_day = 'Tuesday'\n",
    "            print('Screw it. We\\'re going with ' + user_input_day)\n",
    "    return user_input_day.capitalize()\n",
    "\n",
    "\n",
    "def day_is_monday(day):\n",
    "    return day == days[0]\n",
    "\n",
    "\n",
    "def report(kind, day, fn):\n",
    "    c = clauses[fn(day)]\n",
    "    print(output_format.format(kind=kind, emphasis=c[0], for_use=day, use_is=c[1]))\n",
    "\n",
    "\n",
    "def do_tests(day):\n",
    "    report('Monday', day, day_is_monday)\n",
    "    report('weekday', day, day_is_day)\n",
    "    report('weekend', day, day_is_weekend)\n",
    "\n",
    "\n",
    "day = do_tests(get_user_day())\n"
   ]
  },
  {
   "cell_type": "code",
   "execution_count": null,
   "metadata": {},
   "outputs": [],
   "source": []
  }
 ],
 "metadata": {
  "kernelspec": {
   "display_name": "Python 3",
   "language": "python",
   "name": "python3"
  },
  "language_info": {
   "codemirror_mode": {
    "name": "ipython",
    "version": 3
   },
   "file_extension": ".py",
   "mimetype": "text/x-python",
   "name": "python",
   "nbconvert_exporter": "python",
   "pygments_lexer": "ipython3",
   "version": "3.7.3"
  }
 },
 "nbformat": 4,
 "nbformat_minor": 2
}
