{
 "cells": [
  {
   "cell_type": "code",
   "execution_count": 12,
   "metadata": {},
   "outputs": [
    {
     "name": "stdout",
     "output_type": "stream",
     "text": [
      "This is some more sample code\n"
     ]
    }
   ],
   "source": [
    "sc1 = 'This is some sample code.'\n",
    "sc2 = 'This is some more sample code'\n",
    "sc3 = sc2\n",
    "print(sc3)\n"
   ]
  },
  {
   "cell_type": "code",
   "execution_count": 13,
   "metadata": {},
   "outputs": [
    {
     "name": "stdout",
     "output_type": "stream",
     "text": [
      "lc adhorpisTme\n"
     ]
    }
   ],
   "source": [
    "sc3 = set(sc2)\n",
    "sc4 = ''\n",
    "for c in sc3:\n",
    "    sc4 = sc4+c\n",
    "    \n",
    "print(sc4)"
   ]
  },
  {
   "cell_type": "code",
   "execution_count": 14,
   "metadata": {},
   "outputs": [
    {
     "name": "stdout",
     "output_type": "stream",
     "text": [
      "minimum effort, maximum laziness\n"
     ]
    }
   ],
   "source": [
    "print('minimum effort, maximum laziness')"
   ]
  },
  {
   "cell_type": "code",
   "execution_count": null,
   "metadata": {},
   "outputs": [],
   "source": [
    "command_mode =  'To enable edit mode, hit ESC from inside a green cell'\n",
    "edit_mode = 'Click inside of a cell to edit the contents'"
   ]
  },
  {
   "cell_type": "code",
   "execution_count": null,
   "metadata": {},
   "outputs": [],
   "source": [
    "make_a_new_cell_below = 'In command mode, hit B to create a cell below'\n",
    "make_a_new_cell_above = 'In command mode, hit B to create a cell above'"
   ]
  },
  {
   "cell_type": "markdown",
   "metadata": {},
   "source": [
    "how_to_get_help_in_command_mode = \"h\""
   ]
  },
  {
   "cell_type": "code",
   "execution_count": null,
   "metadata": {},
   "outputs": [],
   "source": [
    "UNDOs\n",
    "undo_inside_edit_mode = \"Command+Z\"\n",
    "undo_from_command_mode = \"Z\""
   ]
  },
  {
   "cell_type": "code",
   "execution_count": null,
   "metadata": {},
   "outputs": [],
   "source": [
    "# Undome, babby"
   ]
  }
 ],
 "metadata": {
  "kernelspec": {
   "display_name": "Python 3",
   "language": "python",
   "name": "python3"
  },
  "language_info": {
   "codemirror_mode": {
    "name": "ipython",
    "version": 3
   },
   "file_extension": ".py",
   "mimetype": "text/x-python",
   "name": "python",
   "nbconvert_exporter": "python",
   "pygments_lexer": "ipython3",
   "version": "3.7.3"
  }
 },
 "nbformat": 4,
 "nbformat_minor": 2
}
