{
 "cells": [
  {
   "cell_type": "code",
   "execution_count": null,
   "metadata": {},
   "outputs": [],
   "source": [
    "\n",
    "def loop_it_gt(start_with,end_with,increment):\n",
    "    test_val = start_with\n",
    "    while test_val > end_with:\n",
    "        print(test_val)\n",
    "        test_val += increment\n",
    "\n",
    "\n",
    "def loop_it_lt(start_with,end_with,increment):\n",
    "    test_val = start_with\n",
    "    while test_val < end_with:\n",
    "        print(test_val)\n",
    "        test_val += increment\n",
    "\n",
    "\n",
    "def loop_it(start_with,end_with,increment):\n",
    "    if increment > 0 and end_with > start_with:\n",
    "        loop_it_lt(start_with,end_with,increment)\n",
    "    elif increment < 0 and end_with < start_with:\n",
    "        loop_it_gt(start_with,end_with,increment)\n",
    "    else:\n",
    "        print('Infinite Loop')\n"
   ]
  },
  {
   "cell_type": "code",
   "execution_count": null,
   "metadata": {},
   "outputs": [],
   "source": [
    "i = 5\n",
    "loop_it(i,15.1,1)"
   ]
  },
  {
   "cell_type": "code",
   "execution_count": null,
   "metadata": {},
   "outputs": [],
   "source": [
    "loop_it(0,100.1,2)"
   ]
  },
  {
   "cell_type": "code",
   "execution_count": null,
   "metadata": {},
   "outputs": [],
   "source": [
    "loop_it(100,-10.1,-5)"
   ]
  },
  {
   "cell_type": "code",
   "execution_count": null,
   "metadata": {},
   "outputs": [],
   "source": [
    "loop_it(100,4,-5)"
   ]
  },
  {
   "cell_type": "code",
   "execution_count": null,
   "metadata": {},
   "outputs": [],
   "source": [
    "output_format_2c = \"{mult_num:>3} x {by_num:>3} = {yields_num:>4}\"\n",
    "\n",
    "\n",
    "def multiply_loop(mult_num, run_count):\n",
    "    for on_num in range(1, run_count+1):\n",
    "        product = int(mult_num) * on_num\n",
    "        print(output_format_2c.format(mult_num=mult_num,by_num=on_num,yields_num=product))\n",
    "\n",
    "multiply_loop(input('Gimmie a number: '),10)"
   ]
  },
  {
   "cell_type": "code",
   "execution_count": null,
   "metadata": {},
   "outputs": [],
   "source": [
    "for i in range(1, 10):\n",
    "    o = str(i) * int(i)\n",
    "    print(o)"
   ]
  },
  {
   "cell_type": "code",
   "execution_count": null,
   "metadata": {},
   "outputs": [],
   "source": [
    "odd_nums = [x for x in range(50) if x % 2 == 1]\n",
    "\n",
    "\n",
    "def odd_number_loop(start_at, end_at):\n",
    "    for on_num in range(start_at, end_at + 1, 2):\n",
    "        print(f'Here is an odd integer:{on_num:>3}')\n",
    "\n",
    "def check_user_number():\n",
    "    user_input = input('Gimmie an odd integet less than 50: ')\n",
    "    \n",
    "    while True:\n",
    "        if user_input.isdigit() == False:\n",
    "            print(f'{user_input} ain\\'t no integer')\n",
    "            break\n",
    "\n",
    "        user_input = int(user_input)\n",
    "        \n",
    "        if user_input not in odd_nums:\n",
    "            print(f'{user_input} isn\\'t very odd at all')\n",
    "            break\n",
    "            \n",
    "        if user_input > 1:\n",
    "            odd_number_loop(1, user_input - 2)\n",
    "\n",
    "        print(f'Yikes! Skipping number:{user_input:>3}')\n",
    "\n",
    "        if user_input < 49:\n",
    "            odd_number_loop(user_input + 2, 49)\n",
    "            \n",
    "        user_input = input('Gimmie another odd integer less than 50:')\n",
    "\n",
    "        \n",
    "check_user_number()"
   ]
  },
  {
   "cell_type": "code",
   "execution_count": null,
   "metadata": {},
   "outputs": [],
   "source": [
    "def print_count_to_number(start_at, end_at, increment):\n",
    "    count_out = [print(num) for num in range(start_at, end_at, increment)]\n",
    "\n",
    "\n",
    "def count_to_user_number():\n",
    "    user_input = input('Gimmie an positive integer: ')\n",
    "    \n",
    "    while True:\n",
    "        if user_input.isdigit() == False:\n",
    "            print(f'{user_input} ain\\'t no integer')\n",
    "            break\n",
    "\n",
    "        user_int = int(user_input)\n",
    "        \n",
    "        if user_int > 0:\n",
    "            print_count_to_number(0, user_int+1, 1)\n",
    "            \n",
    "        user_input = input('Gimmie another positive integer: ')\n",
    "\n",
    "        \n",
    "count_to_user_number()"
   ]
  },
  {
   "cell_type": "code",
   "execution_count": null,
   "metadata": {},
   "outputs": [],
   "source": [
    "for num in range(1, 101):\n",
    "    fb = ''\n",
    "    if num % 3 == 0:\n",
    "        fb += 'Fizz'\n",
    "    if num % 5 == 0:\n",
    "        fb += 'Buzz'\n",
    "    if not fb:\n",
    "        fb = num\n",
    "    print(fb)"
   ]
  },
  {
   "cell_type": "code",
   "execution_count": null,
   "metadata": {},
   "outputs": [],
   "source": [
    "top_output_format = \"{col_num:>8s} | {col_square:>8s} | {col_cube:>8s}\"\n",
    "lbl_num = '{:<8s}'.format('number')\n",
    "lbl_square = '{:<8s}'.format('squared')\n",
    "lbl_cube = '{:<8s}'.format('cubed')\n",
    "lbl_fill = '{:-<8s}'.format('')\n",
    "\n",
    "def output_table_of_powers(upto_number):\n",
    "    print('\\nTable for {}\\n'.format(upto_number))\n",
    "    print(top_output_format.format(col_num=lbl_num, col_square=lbl_square, col_cube=lbl_cube))\n",
    "    print(top_output_format.format(col_num=lbl_fill, col_square=lbl_fill, col_cube=lbl_fill))\n",
    "    for num in range(1, upto_number + 1):\n",
    "        print(top_output_format.format(col_num=str(num), col_square=str(num **2), col_cube=str(num ** 3)))\n",
    "\n",
    "def get_user_number_for_table():\n",
    "    go_on = 'Y'\n",
    "    \n",
    "    while go_on == 'Y':\n",
    "        user_input = input('Gimmie a positive integer to power up: ')\n",
    "        \n",
    "        if user_input.isdigit() == False:\n",
    "            print(f'{user_input} ain\\'t no positive integer. How\\'s about 5?')\n",
    "            user_input = 5\n",
    "\n",
    "        user_int = int(user_input)\n",
    "\n",
    "        if user_int > 20:\n",
    "            print('Sorry, I ain\\'t countin\\' that high. How\\'s about 20?')\n",
    "            user_int = 20\n",
    "\n",
    "        if user_int < 3:\n",
    "            print('Don\\'t wanna go that low. How\\'s about 3?')\n",
    "            user_int = 3\n",
    "\n",
    "        output_table_of_powers(user_int)\n",
    "        \n",
    "        go_on = input('Wanna try again? (Y/N) ').upper()\n",
    "        \n",
    "\n",
    "    \n",
    "get_user_number_for_table()"
   ]
  },
  {
   "cell_type": "code",
   "execution_count": null,
   "metadata": {},
   "outputs": [],
   "source": []
  }
 ],
 "metadata": {
  "kernelspec": {
   "display_name": "Python 3",
   "language": "python",
   "name": "python3"
  },
  "language_info": {
   "codemirror_mode": {
    "name": "ipython",
    "version": 3
   },
   "file_extension": ".py",
   "mimetype": "text/x-python",
   "name": "python",
   "nbconvert_exporter": "python",
   "pygments_lexer": "ipython3",
   "version": "3.7.3"
  }
 },
 "nbformat": 4,
 "nbformat_minor": 2
}
