{
 "cells": [
  {
   "cell_type": "code",
   "execution_count": null,
   "metadata": {},
   "outputs": [],
   "source": [
    "\n",
    "def loop_it_gt(start_with,end_with,increment):\n",
    "    test_val = start_with\n",
    "    while test_val > end_with:\n",
    "        print(test_val)\n",
    "        test_val += increment\n",
    "\n",
    "\n",
    "def loop_it_lt(start_with,end_with,increment):\n",
    "    test_val = start_with\n",
    "    while test_val < end_with:\n",
    "        print(test_val)\n",
    "        test_val += increment\n",
    "\n",
    "\n",
    "def loop_it(start_with,end_with,increment):\n",
    "    if increment > 0 and end_with > start_with:\n",
    "        loop_it_lt(start_with,end_with,increment)\n",
    "    elif increment < 0 and end_with < start_with:\n",
    "        loop_it_gt(start_with,end_with,increment)\n",
    "    else:\n",
    "        print('Infinite Loop')\n"
   ]
  },
  {
   "cell_type": "code",
   "execution_count": null,
   "metadata": {},
   "outputs": [],
   "source": [
    "i = 5\n",
    "loop_it(i,15.1,1)"
   ]
  },
  {
   "cell_type": "code",
   "execution_count": null,
   "metadata": {},
   "outputs": [],
   "source": [
    "loop_it(0,100.1,2)"
   ]
  },
  {
   "cell_type": "code",
   "execution_count": null,
   "metadata": {},
   "outputs": [],
   "source": [
    "loop_it(100,-10.1,-5)"
   ]
  },
  {
   "cell_type": "code",
   "execution_count": null,
   "metadata": {},
   "outputs": [],
   "source": [
    "loop_it(100,4,-5)"
   ]
  },
  {
   "cell_type": "code",
   "execution_count": null,
   "metadata": {},
   "outputs": [],
   "source": [
    "output_format_2c = \"{mult_num:>3} x {by_num:>3} = {yields_num:>4}\"\n",
    "\n",
    "\n",
    "def multiply_loop(mult_num, run_count):\n",
    "    for on_num in range(1, run_count+1):\n",
    "        product = int(mult_num) * on_num\n",
    "        print(output_format_2c.format(mult_num=mult_num,by_num=on_num,yields_num=product))\n",
    "\n",
    "multiply_loop(input('Gimmie a number: '),10)"
   ]
  },
  {
   "cell_type": "code",
   "execution_count": null,
   "metadata": {},
   "outputs": [],
   "source": [
    "for i in range(1, 10):\n",
    "    o = str(i) * int(i)\n",
    "    print(o)"
   ]
  },
  {
   "cell_type": "code",
   "execution_count": null,
   "metadata": {},
   "outputs": [
    {
     "name": "stdout",
     "output_type": "stream",
     "text": [
      "Gimmie an odd number less than 50:1\n",
      "Yikes! Skipping number:  1\n",
      "Here is an odd number:  3\n",
      "Here is an odd number:  5\n",
      "Here is an odd number:  7\n",
      "Here is an odd number:  9\n",
      "Here is an odd number: 11\n",
      "Here is an odd number: 13\n",
      "Here is an odd number: 15\n",
      "Here is an odd number: 17\n",
      "Here is an odd number: 19\n",
      "Here is an odd number: 21\n",
      "Here is an odd number: 23\n",
      "Here is an odd number: 25\n",
      "Here is an odd number: 27\n",
      "Here is an odd number: 29\n",
      "Here is an odd number: 31\n",
      "Here is an odd number: 33\n",
      "Here is an odd number: 35\n",
      "Here is an odd number: 37\n",
      "Here is an odd number: 39\n",
      "Here is an odd number: 41\n",
      "Here is an odd number: 43\n",
      "Here is an odd number: 45\n",
      "Here is an odd number: 47\n",
      "Here is an odd number: 49\n",
      "Gimmie another odd number less than 50:49\n",
      "Here is an odd number:  1\n",
      "Here is an odd number:  3\n",
      "Here is an odd number:  5\n",
      "Here is an odd number:  7\n",
      "Here is an odd number:  9\n",
      "Here is an odd number: 11\n",
      "Here is an odd number: 13\n",
      "Here is an odd number: 15\n",
      "Here is an odd number: 17\n",
      "Here is an odd number: 19\n",
      "Here is an odd number: 21\n",
      "Here is an odd number: 23\n",
      "Here is an odd number: 25\n",
      "Here is an odd number: 27\n",
      "Here is an odd number: 29\n",
      "Here is an odd number: 31\n",
      "Here is an odd number: 33\n",
      "Here is an odd number: 35\n",
      "Here is an odd number: 37\n",
      "Here is an odd number: 39\n",
      "Here is an odd number: 41\n",
      "Here is an odd number: 43\n",
      "Here is an odd number: 45\n",
      "Here is an odd number: 47\n",
      "Yikes! Skipping number: 49\n",
      "Gimmie another odd number less than 50:25\n",
      "Here is an odd number:  1\n",
      "Here is an odd number:  3\n",
      "Here is an odd number:  5\n",
      "Here is an odd number:  7\n",
      "Here is an odd number:  9\n",
      "Here is an odd number: 11\n",
      "Here is an odd number: 13\n",
      "Here is an odd number: 15\n",
      "Here is an odd number: 17\n",
      "Here is an odd number: 19\n",
      "Here is an odd number: 21\n",
      "Here is an odd number: 23\n",
      "Yikes! Skipping number: 25\n",
      "Here is an odd number: 27\n",
      "Here is an odd number: 29\n",
      "Here is an odd number: 31\n",
      "Here is an odd number: 33\n",
      "Here is an odd number: 35\n",
      "Here is an odd number: 37\n",
      "Here is an odd number: 39\n",
      "Here is an odd number: 41\n",
      "Here is an odd number: 43\n",
      "Here is an odd number: 45\n",
      "Here is an odd number: 47\n",
      "Here is an odd number: 49\n"
     ]
    }
   ],
   "source": [
    "odd_nums = [x for x in range(50) if x % 2 == 1]\n",
    "\n",
    "\n",
    "def odd_number_loop(start_at, end_at):\n",
    "    for on_num in range(start_at, end_at + 1, 2):\n",
    "        print(f'Here is an odd number:{on_num:>3}')\n",
    "\n",
    "def check_user_number():\n",
    "    user_input = input('Gimmie an odd number less than 50:')\n",
    "    \n",
    "    while True:\n",
    "        if user_input.isdigit == False:\n",
    "            print(f'{user_input} ain\\'t no number')\n",
    "            break\n",
    "\n",
    "        user_input = int(user_input)\n",
    "        \n",
    "        if user_input not in odd_nums:\n",
    "            print(f'{user_input} isn\\'t very odd at all')\n",
    "            break\n",
    "            \n",
    "        if user_input > 1:\n",
    "            odd_number_loop(1, user_input - 2)\n",
    "\n",
    "        print(f'Yikes! Skipping number:{user_input:>3}')\n",
    "\n",
    "        if user_input < 49:\n",
    "            odd_number_loop(user_input + 2, 49)\n",
    "            \n",
    "        user_input = input('Gimmie another odd number less than 50:')\n",
    "\n",
    "        \n",
    "check_user_number()"
   ]
  },
  {
   "cell_type": "code",
   "execution_count": null,
   "metadata": {},
   "outputs": [],
   "source": []
  }
 ],
 "metadata": {
  "kernelspec": {
   "display_name": "Python 3",
   "language": "python",
   "name": "python3"
  },
  "language_info": {
   "codemirror_mode": {
    "name": "ipython",
    "version": 3
   },
   "file_extension": ".py",
   "mimetype": "text/x-python",
   "name": "python",
   "nbconvert_exporter": "python",
   "pygments_lexer": "ipython3",
   "version": "3.7.3"
  }
 },
 "nbformat": 4,
 "nbformat_minor": 2
}
