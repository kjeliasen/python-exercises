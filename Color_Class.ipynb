{
 "cells": [
  {
   "cell_type": "code",
   "execution_count": 36,
   "metadata": {},
   "outputs": [],
   "source": [
    "import pandas as pd\n",
    "import numpy as np\n",
    "import enum\n",
    "\n",
    "@enum.unique\n",
    "class Color(enum.Enum):\n",
    "   PURPLE = '\\033[95m'\n",
    "   CYAN = '\\033[96m'\n",
    "   DARKCYAN = '\\033[36m'\n",
    "   BLUE = '\\033[94m'\n",
    "   GREEN = '\\033[92m'\n",
    "   YELLOW = '\\033[93m'\n",
    "   RED = '\\033[91m'\n",
    "   BOLD = '\\033[1m'\n",
    "   UNDERLINE = '\\033[4m'\n",
    "   END = '\\033[0m'\n",
    "\n",
    "def fancify(text, fancy=Color.BOLD):\n",
    "    return fancy.value + str(text) + Color.END.value\n",
    "\n",
    "def fancy(fancier=Color.BOLD):\n",
    "    return fancier.value"
   ]
  },
  {
   "cell_type": "code",
   "execution_count": 37,
   "metadata": {},
   "outputs": [
    {
     "name": "stdout",
     "output_type": "stream",
     "text": [
      "\u001b[1m<class 'pandas.core.series.Series'>\u001b[0m\n"
     ]
    }
   ],
   "source": [
    "series = pd.Series([100, 43, 26, 17, np.pi])\n",
    "print(fancify(type(series)))"
   ]
  },
  {
   "cell_type": "code",
   "execution_count": 12,
   "metadata": {},
   "outputs": [
    {
     "name": "stdout",
     "output_type": "stream",
     "text": [
      "0    100.000000\n",
      "1     43.000000\n",
      "2     26.000000\n",
      "3     17.000000\n",
      "4      3.141593\n",
      "dtype: float64\n"
     ]
    }
   ],
   "source": [
    "print(series)"
   ]
  },
  {
   "cell_type": "code",
   "execution_count": 26,
   "metadata": {},
   "outputs": [
    {
     "name": "stdout",
     "output_type": "stream",
     "text": [
      "\u001b[94mThis is a name\u001b[0m\n"
     ]
    }
   ],
   "source": [
    "print(f'{Color.BLUE.value}{series.name}{Color.END.value}')"
   ]
  },
  {
   "cell_type": "code",
   "execution_count": 27,
   "metadata": {},
   "outputs": [
    {
     "name": "stdout",
     "output_type": "stream",
     "text": [
      "0    100.000000\n",
      "1     43.000000\n",
      "2     26.000000\n",
      "3     17.000000\n",
      "4      3.141593\n",
      "Name: \u001b[94mThis is a name\u001b[0m, dtype: float64\n"
     ]
    }
   ],
   "source": [
    "series.name = f'{Color.BLUE.value}This is a name{Color.END.value}'\n",
    "print(series)"
   ]
  },
  {
   "cell_type": "code",
   "execution_count": null,
   "metadata": {},
   "outputs": [],
   "source": []
  }
 ],
 "metadata": {
  "kernelspec": {
   "display_name": "Python 3",
   "language": "python",
   "name": "python3"
  },
  "language_info": {
   "codemirror_mode": {
    "name": "ipython",
    "version": 3
   },
   "file_extension": ".py",
   "mimetype": "text/x-python",
   "name": "python",
   "nbconvert_exporter": "python",
   "pygments_lexer": "ipython3",
   "version": "3.7.3"
  }
 },
 "nbformat": 4,
 "nbformat_minor": 2
}
