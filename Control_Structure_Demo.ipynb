{
 "cells": [
  {
   "cell_type": "markdown",
   "metadata": {},
   "source": [
    "## Basic conditional example"
   ]
  },
  {
   "cell_type": "code",
   "execution_count": 1,
   "metadata": {},
   "outputs": [
    {
     "name": "stdout",
     "output_type": "stream",
     "text": [
      "I like coffee!\n",
      "Coffee is the best!\n"
     ]
    }
   ],
   "source": [
    "i_like_coffee = True\n",
    "\n",
    "if i_like_coffee:\n",
    "    print('I like coffee!')\n",
    "    print('Coffee is the best!')"
   ]
  },
  {
   "cell_type": "markdown",
   "metadata": {},
   "source": [
    "## Try it out again by changing condition to False"
   ]
  },
  {
   "cell_type": "markdown",
   "metadata": {},
   "source": [
    "## Conditional Example with else"
   ]
  },
  {
   "cell_type": "code",
   "execution_count": 2,
   "metadata": {},
   "outputs": [
    {
     "name": "stdout",
     "output_type": "stream",
     "text": [
      "Looks like a nice, sunny day!\n"
     ]
    }
   ],
   "source": [
    "it_is_raining = False\n",
    "\n",
    "if it_is_raining:\n",
    "    print('Better bring an umbrella!')\n",
    "else:\n",
    "    print('Looks like a nice, sunny day!')"
   ]
  },
  {
   "cell_type": "markdown",
   "metadata": {},
   "source": [
    "## Extra fun with conditional example"
   ]
  },
  {
   "cell_type": "code",
   "execution_count": 3,
   "metadata": {},
   "outputs": [
    {
     "name": "stdout",
     "output_type": "stream",
     "text": [
      "My favorite thing to do is program\n"
     ]
    }
   ],
   "source": [
    "programming_is_fun=True\n",
    "if programming_is_fun==True:\n",
    "    print(\"My favorite thing to do is program\")\n",
    "else:\n",
    "    print(\"Programming makes me sick.\")"
   ]
  },
  {
   "cell_type": "code",
   "execution_count": 8,
   "metadata": {},
   "outputs": [
    {
     "name": "stdout",
     "output_type": "stream",
     "text": [
      "Yes\n"
     ]
    }
   ],
   "source": [
    "#Code your own example below\n",
    "\n",
    "just_say_no = False\n",
    "if just_say_no:\n",
    "    print('No')\n",
    "else:\n",
    "    print('Yes')"
   ]
  },
  {
   "cell_type": "code",
   "execution_count": 5,
   "metadata": {},
   "outputs": [
    {
     "name": "stdout",
     "output_type": "stream",
     "text": [
      "Light roast has the most caffeine!\n"
     ]
    }
   ],
   "source": [
    "#Try changing preference to light\n",
    "coffee_preference = 'light'\n",
    "\n",
    "if coffee_preference == 'dark':\n",
    "    print('I love a good dark roast!')\n",
    "elif coffee_preference == 'medium':\n",
    "    print('Middle of the road, huh?')\n",
    "elif coffee_preference == 'light':\n",
    "    print('Light roast has the most caffeine!')\n",
    "else:\n",
    "    print('How about some tea then?')"
   ]
  },
  {
   "cell_type": "code",
   "execution_count": 16,
   "metadata": {},
   "outputs": [
    {
     "name": "stdout",
     "output_type": "stream",
     "text": [
      "slow down\n"
     ]
    }
   ],
   "source": [
    "# Extra example with stoplight\n",
    "light_color=\"yellow\"\n",
    "if light_color==\"red\":\n",
    "    print(\"stop\")\n",
    "elif light_color==\"yellow\":\n",
    "    print(\"slow down\")\n",
    "elif light_color==\"green\":\n",
    "    print(\"go,go,go\")\n",
    "else:\n",
    "    print(\"Are you high?\")"
   ]
  },
  {
   "cell_type": "markdown",
   "metadata": {},
   "source": [
    "## Try making your own now."
   ]
  },
  {
   "cell_type": "markdown",
   "metadata": {},
   "source": [
    "## For loops"
   ]
  },
  {
   "cell_type": "code",
   "execution_count": 12,
   "metadata": {},
   "outputs": [
    {
     "name": "stdout",
     "output_type": "stream",
     "text": [
      "1\n",
      "2\n",
      "3\n",
      "a\n",
      "b\n",
      "c\n",
      "d\n",
      "e\n"
     ]
    }
   ],
   "source": [
    "for number in range(1,4):\n",
    "    print(number)\n",
    "    \n",
    "for letter in 'abcde':\n",
    "    print(letter)    "
   ]
  },
  {
   "cell_type": "code",
   "execution_count": 13,
   "metadata": {},
   "outputs": [
    {
     "name": "stdout",
     "output_type": "stream",
     "text": [
      "bash is a nice programming language\n",
      "python is a nice programming language\n",
      "R is a nice programming language\n",
      "clojure is a nice programming language\n"
     ]
    }
   ],
   "source": [
    "#using a list as an iterable\n",
    "#note that name of elements in the list don't matter\n",
    "languages = ['bash', 'python', 'R', 'clojure']\n",
    "\n",
    "for language in languages:\n",
    "    print(f'{language} is a nice programming language')"
   ]
  },
  {
   "cell_type": "code",
   "execution_count": 14,
   "metadata": {},
   "outputs": [
    {
     "name": "stdout",
     "output_type": "stream",
     "text": [
      "bash is a nice programming language\n",
      "python is my favorite!\n",
      "R is a nice programming language\n",
      "clojure is a nice programming language\n"
     ]
    }
   ],
   "source": [
    "#Nesting the loop with a if/else control structure inside\n",
    "for language in languages:\n",
    "    if language == 'python':\n",
    "        print(f'{language} is my favorite!')\n",
    "    else:\n",
    "        print(f'{language} is a nice programming language')"
   ]
  },
  {
   "cell_type": "code",
   "execution_count": 21,
   "metadata": {},
   "outputs": [
    {
     "name": "stdout",
     "output_type": "stream",
     "text": [
      "A kiwi a day keeps the doctor away\n",
      "An apple a day keeps the doctor away\n",
      "A pear a day keeps the doctor away\n",
      "A mango a day keeps the doctor away\n",
      "A pineapple a day keeps the doctor away\n",
      "An orange a day keeps the doctor away\n"
     ]
    }
   ],
   "source": [
    "#Extra example \n",
    "fruits=['kiwi','apple','pear','mango','pineapple','Orange']\n",
    "vowels = ['a','e','i','o','u']\n",
    "for fruit in fruits:\n",
    "    if fruit[0].lower() in vowels:\n",
    "        a_an = 'n'\n",
    "    else:\n",
    "        a_an = ''\n",
    "    print(f'A{a_an} {fruit.lower()} a day keeps the doctor away')"
   ]
  },
  {
   "cell_type": "code",
   "execution_count": 21,
   "metadata": {},
   "outputs": [
    {
     "name": "stdout",
     "output_type": "stream",
     "text": [
      "5\n",
      "6\n",
      "7\n",
      "8\n",
      "9\n",
      "10\n",
      "11\n"
     ]
    }
   ],
   "source": [
    "## While loops\n",
    "i = 5\n",
    "while i <= 10:\n",
    "    print(i)\n",
    "    i += 1  "
   ]
  },
  {
   "cell_type": "code",
   "execution_count": 25,
   "metadata": {},
   "outputs": [
    {
     "name": "stdout",
     "output_type": "stream",
     "text": [
      "10\n",
      "9\n"
     ]
    }
   ],
   "source": [
    "#Additional example subtracting rather than adding\n",
    "j=10\n",
    "while j>8:\n",
    "    print(j)\n",
    "    j-=1"
   ]
  },
  {
   "cell_type": "markdown",
   "metadata": {},
   "source": [
    "## Break and continue keywords"
   ]
  },
  {
   "cell_type": "code",
   "execution_count": 28,
   "metadata": {},
   "outputs": [
    {
     "name": "stdout",
     "output_type": "stream",
     "text": [
      "0\n",
      "1\n",
      "2\n",
      "3\n",
      "4\n",
      "5\n",
      "6\n",
      "7\n",
      "8\n",
      "9\n",
      "10\n",
      "11\n"
     ]
    }
   ],
   "source": [
    "#try switching break to continue and also moving around print statement\n",
    "for n in range(100_000):\n",
    "    print(n)\n",
    "    if n > 10:\n",
    "        break"
   ]
  },
  {
   "cell_type": "code",
   "execution_count": 25,
   "metadata": {},
   "outputs": [
    {
     "name": "stdout",
     "output_type": "stream",
     "text": [
      "Here is an odd number: 1\n",
      "Here is an odd number: 3\n",
      "Here is an odd number: 5\n",
      "Here is an odd number: 7\n",
      "Here is an odd number: 9\n"
     ]
    }
   ],
   "source": [
    "#modify to print the even numbers only in the range\n",
    "for n in range(10):\n",
    "    if n % 2 == 0:\n",
    "        continue #notice python ignores any code after continue statement\n",
    "    print('Here is an odd number: {}'.format(n))"
   ]
  },
  {
   "cell_type": "code",
   "execution_count": 28,
   "metadata": {},
   "outputs": [
    {
     "name": "stdout",
     "output_type": "stream",
     "text": [
      "Here is an even number: 0\n",
      "Here is an even number: 2\n",
      "Here is an even number: 4\n",
      "Here is an even number: 6\n",
      "Here is an even number: 8\n"
     ]
    }
   ],
   "source": [
    "#modify to print the even numbers only in the range\n",
    "for n in range(10):\n",
    "    if n % 2 == 1:\n",
    "        continue #notice python ignores any code after continue statement\n",
    "    print('Here is an even number: {}'.format(n))"
   ]
  },
  {
   "cell_type": "code",
   "execution_count": 29,
   "metadata": {},
   "outputs": [
    {
     "name": "stdout",
     "output_type": "stream",
     "text": [
      "age average: 29.00\n",
      "is_vegetarian is not numeric, skipping\n",
      "shoe size average: 8.86\n",
      "ISP is not numeric, skipping\n",
      "BMI average: 23.90\n"
     ]
    }
   ],
   "source": [
    "dataset = [{'name': 'age', 'type': 'int', 'data': [20, 25, 43, 11, 15, 53, 36]},\n",
    "           {'name': 'is_vegetarian', 'type': 'boolean', 'data': [False, True, False, False, True, False, False]},\n",
    "           {'name': 'shoe size', 'type': 'int', 'data': [8, 11, 7, 10, 7, 9, 10]},\n",
    "           {'name': 'ISP', 'type': 'categorical', 'data': ['AT&T', 'Spectrum', 'Spectrum', 'Spectrum', 'AT&T', 'Spectrum', 'AT&T']},\n",
    "           {'name': 'BMI', 'type': 'float', 'data': [29.9, 20.4, 23.3, 21.7, 22.2, 22.8, 27.0]}]\n",
    "\n",
    "# print the means for the numeric data\n",
    "for feature in dataset:\n",
    "    if feature['type'] == 'categorical' or feature['type'] == 'boolean':\n",
    "        print('{} is not numeric, skipping'.format(feature['name']))\n",
    "        continue\n",
    "    avg = sum(feature['data']) / len(feature['data'])\n",
    "    print('{} average: {:.2f}'.format(feature['name'], avg))"
   ]
  },
  {
   "cell_type": "code",
   "execution_count": null,
   "metadata": {},
   "outputs": [],
   "source": [
    "# add another dictionary to dataset and see what happens!"
   ]
  },
  {
   "cell_type": "code",
   "execution_count": null,
   "metadata": {},
   "outputs": [],
   "source": []
  },
  {
   "cell_type": "code",
   "execution_count": null,
   "metadata": {},
   "outputs": [],
   "source": []
  },
  {
   "cell_type": "code",
   "execution_count": 36,
   "metadata": {},
   "outputs": [
    {
     "ename": "NameError",
     "evalue": "name 'actual_days' is not defined",
     "output_type": "error",
     "traceback": [
      "\u001b[0;31m---------------------------------------------------------------------------\u001b[0m",
      "\u001b[0;31mNameError\u001b[0m                                 Traceback (most recent call last)",
      "\u001b[0;32m<ipython-input-36-726675819da3>\u001b[0m in \u001b[0;36m<module>\u001b[0;34m\u001b[0m\n\u001b[1;32m     35\u001b[0m \u001b[0mday_to_use\u001b[0m \u001b[0;34m=\u001b[0m \u001b[0mget_user_day\u001b[0m\u001b[0;34m\u001b[0m\u001b[0;34m\u001b[0m\u001b[0m\n\u001b[1;32m     36\u001b[0m \u001b[0mload_days\u001b[0m\u001b[0;34m\u001b[0m\u001b[0;34m\u001b[0m\u001b[0m\n\u001b[0;32m---> 37\u001b[0;31m \u001b[0;32mif\u001b[0m \u001b[0mday_is_day\u001b[0m\u001b[0;34m(\u001b[0m\u001b[0mday_to_use\u001b[0m\u001b[0;34m)\u001b[0m\u001b[0;34m:\u001b[0m\u001b[0;34m\u001b[0m\u001b[0;34m\u001b[0m\u001b[0m\n\u001b[0m\u001b[1;32m     38\u001b[0m     \u001b[0mis_yup\u001b[0m \u001b[0;34m=\u001b[0m \u001b[0mday_is_monday\u001b[0m\u001b[0;34m(\u001b[0m\u001b[0mday_to_use\u001b[0m\u001b[0;34m)\u001b[0m\u001b[0;34m\u001b[0m\u001b[0;34m\u001b[0m\u001b[0m\n\u001b[1;32m     39\u001b[0m     \u001b[0mprint\u001b[0m\u001b[0;34m(\u001b[0m\u001b[0mgee_whiz\u001b[0m\u001b[0;34m(\u001b[0m\u001b[0myeehaw\u001b[0m\u001b[0;34m(\u001b[0m\u001b[0mis_yup\u001b[0m\u001b[0;34m)\u001b[0m\u001b[0;34m,\u001b[0m\u001b[0mday_to_use\u001b[0m\u001b[0;34m,\u001b[0m\u001b[0mis_aint\u001b[0m\u001b[0;34m(\u001b[0m\u001b[0mis_yup\u001b[0m\u001b[0;34m)\u001b[0m\u001b[0;34m,\u001b[0m\u001b[0mis_a_what\u001b[0m\u001b[0;34m)\u001b[0m\u001b[0;34m)\u001b[0m\u001b[0;34m\u001b[0m\u001b[0;34m\u001b[0m\u001b[0m\n",
      "\u001b[0;32m<ipython-input-36-726675819da3>\u001b[0m in \u001b[0;36mday_is_day\u001b[0;34m(check_day)\u001b[0m\n\u001b[1;32m      8\u001b[0m \u001b[0;34m\u001b[0m\u001b[0m\n\u001b[1;32m      9\u001b[0m \u001b[0;32mdef\u001b[0m \u001b[0mday_is_day\u001b[0m\u001b[0;34m(\u001b[0m\u001b[0mcheck_day\u001b[0m\u001b[0;34m)\u001b[0m\u001b[0;34m:\u001b[0m\u001b[0;34m\u001b[0m\u001b[0;34m\u001b[0m\u001b[0m\n\u001b[0;32m---> 10\u001b[0;31m     \u001b[0;32mreturn\u001b[0m \u001b[0mcheck_day\u001b[0m \u001b[0;32min\u001b[0m \u001b[0mactual_days\u001b[0m\u001b[0;34m\u001b[0m\u001b[0;34m\u001b[0m\u001b[0m\n\u001b[0m\u001b[1;32m     11\u001b[0m \u001b[0;34m\u001b[0m\u001b[0m\n\u001b[1;32m     12\u001b[0m \u001b[0;32mdef\u001b[0m \u001b[0mget_user_day\u001b[0m\u001b[0;34m(\u001b[0m\u001b[0;34m)\u001b[0m\u001b[0;34m:\u001b[0m\u001b[0;34m\u001b[0m\u001b[0;34m\u001b[0m\u001b[0m\n",
      "\u001b[0;31mNameError\u001b[0m: name 'actual_days' is not defined"
     ]
    }
   ],
   "source": []
  },
  {
   "cell_type": "code",
   "execution_count": null,
   "metadata": {},
   "outputs": [],
   "source": []
  }
 ],
 "metadata": {
  "kernelspec": {
   "display_name": "Python 3",
   "language": "python",
   "name": "python3"
  },
  "language_info": {
   "codemirror_mode": {
    "name": "ipython",
    "version": 3
   },
   "file_extension": ".py",
   "mimetype": "text/x-python",
   "name": "python",
   "nbconvert_exporter": "python",
   "pygments_lexer": "ipython3",
   "version": "3.7.3"
  }
 },
 "nbformat": 4,
 "nbformat_minor": 2
}
