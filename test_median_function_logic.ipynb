{
 "cells": [
  {
   "cell_type": "code",
   "execution_count": 40,
   "metadata": {},
   "outputs": [
    {
     "name": "stdout",
     "output_type": "stream",
     "text": [
      "random_list = [55, 92, 58, 74, 13, 30, 8, 87, 67, 83]\n",
      "sort_list = [8, 13, 30, 55, 58, 67, 74, 83, 87, 92]\n",
      "list_len = 10\n",
      "check_len = 5\n",
      "check_vals = [58]\n",
      "median = 58.0\n"
     ]
    }
   ],
   "source": [
    "#library for creating random values\n",
    "import random\n",
    "\n",
    "#function to generate random list\n",
    "random_list = [random.randint(0,100) for x in range(random.randint(8,15))]\n",
    "\n",
    "# stats is here for debug purposes only ... don't put in your final function\n",
    "stats = {} \n",
    "\n",
    "def get_median_and_stats(random_list, stats): #stats is here for debug purposes only\n",
    "    sort_list = random_list[:]\n",
    "    sort_list.sort()\n",
    "    list_len = len(sort_list)\n",
    "    check_len = list_len // 2\n",
    "    check_vals = sort_list[check_len-1:-check_len]\n",
    "    median = sum(check_vals) / len(check_vals)\n",
    "    \n",
    "    # these are here for debug purposes only ... don't keep in your final function:\n",
    "    stats['random_list'] = random_list\n",
    "    stats['sort_list'] = sort_list\n",
    "    stats['list_len'] = list_len\n",
    "    stats['check_len'] = check_len\n",
    "    stats['check_vals'] = check_vals\n",
    "    stats['median'] = median\n",
    "    \n",
    "\n",
    "\n",
    "x = get_median_and_stats(random_list, stats)\n",
    "\n",
    "for item in median_stats.items():\n",
    "    print(f'{item[0]} = {item[1]}')\n"
   ]
  },
  {
   "cell_type": "code",
   "execution_count": null,
   "metadata": {},
   "outputs": [],
   "source": []
  }
 ],
 "metadata": {
  "kernelspec": {
   "display_name": "Python 3",
   "language": "python",
   "name": "python3"
  },
  "language_info": {
   "codemirror_mode": {
    "name": "ipython",
    "version": 3
   },
   "file_extension": ".py",
   "mimetype": "text/x-python",
   "name": "python",
   "nbconvert_exporter": "python",
   "pygments_lexer": "ipython3",
   "version": "3.7.3"
  }
 },
 "nbformat": 4,
 "nbformat_minor": 2
}
