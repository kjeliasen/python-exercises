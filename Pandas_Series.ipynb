{
 "cells": [
  {
   "cell_type": "markdown",
   "metadata": {},
   "source": [
    "# Exercises\n",
    "Make a file named `pandas_series.py` or `pandas_series.ipynb` for the following exercises."
   ]
  },
  {
   "cell_type": "code",
   "execution_count": 334,
   "metadata": {},
   "outputs": [],
   "source": [
    "import pandas as pd\n",
    "import numpy as np\n",
    "import math\n",
    "%matplotlib inline\n",
    "import matplotlib.pyplot as plt\n",
    "\n",
    "from colorama import init, Fore, Back, Style\n",
    "def fancify(text, fancy=Style.BRIGHT):\n",
    "    return f'{fancy}{str(text)}{Style.RESET_ALL}'\n",
    "def print_title(text):\n",
    "    return print(fancify(fancify(text, Fore.BLUE + Back.CYAN)) + '\\n')"
   ]
  },
  {
   "cell_type": "markdown",
   "metadata": {},
   "source": [
    "## 1. Use pandas to create a Series from the following data:\n",
    "\n",
    "`[\"kiwi\", \"mango\", \"strawberry\", \"pineapple\", \"gala apple\", \"honeycrisp apple\", \"tomato\", \"watermelon\", \"honeydew\", \"kiwi\", \"kiwi\", \"kiwi\", \"mango\", \"blueberry\", \"blackberry\", \"gooseberry\", \"papaya\"]`"
   ]
  },
  {
   "cell_type": "code",
   "execution_count": 335,
   "metadata": {},
   "outputs": [],
   "source": [
    "task_1a=('1.a. Name the variable that holds the series fruits.')"
   ]
  },
  {
   "cell_type": "code",
   "execution_count": 336,
   "metadata": {},
   "outputs": [
    {
     "name": "stdout",
     "output_type": "stream",
     "text": [
      "\u001b[1m\u001b[34m\u001b[46m1.a. Name the variable that holds the series fruits.\u001b[0m\u001b[0m\n",
      "\n",
      "0                 kiwi\n",
      "1                mango\n",
      "2           strawberry\n",
      "3            pineapple\n",
      "4           gala apple\n",
      "5     honeycrisp apple\n",
      "6               tomato\n",
      "7           watermelon\n",
      "8             honeydew\n",
      "9                 kiwi\n",
      "10                kiwi\n",
      "11                kiwi\n",
      "12               mango\n",
      "13           blueberry\n",
      "14          blackberry\n",
      "15          gooseberry\n",
      "16              papaya\n",
      "dtype: object\n"
     ]
    }
   ],
   "source": [
    "print_title(task_1a)\n",
    "\n",
    "fruits = pd.Series([\"kiwi\", \"mango\", \"strawberry\", \"pineapple\", \"gala apple\", \n",
    "                    \"honeycrisp apple\", \"tomato\", \"watermelon\", \"honeydew\", \n",
    "                    \"kiwi\", \"kiwi\", \"kiwi\", \"mango\", \"blueberry\", \"blackberry\", \n",
    "                    \"gooseberry\", \"papaya\"])\n",
    "print(fruits)"
   ]
  },
  {
   "cell_type": "code",
   "execution_count": 337,
   "metadata": {},
   "outputs": [],
   "source": [
    "task_1b = '1.b. Run .describe() on the series to see what describe returns for a series of strings.'"
   ]
  },
  {
   "cell_type": "code",
   "execution_count": 338,
   "metadata": {},
   "outputs": [
    {
     "name": "stdout",
     "output_type": "stream",
     "text": [
      "\u001b[1m\u001b[34m\u001b[46m1.b. Run .describe() on the series to see what describe returns for a series of strings.\u001b[0m\u001b[0m\n",
      "\n",
      "count       17\n",
      "unique      13\n",
      "top       kiwi\n",
      "freq         4\n",
      "dtype: object\n"
     ]
    }
   ],
   "source": [
    "print_title(task_1b)\n",
    "print(fruits.describe())"
   ]
  },
  {
   "cell_type": "code",
   "execution_count": 339,
   "metadata": {},
   "outputs": [],
   "source": [
    "task_1c = '1.c. Run the code necessary to produce only the unique fruit names.'"
   ]
  },
  {
   "cell_type": "code",
   "execution_count": 340,
   "metadata": {},
   "outputs": [
    {
     "name": "stdout",
     "output_type": "stream",
     "text": [
      "\u001b[1m\u001b[34m\u001b[46m1.c. Run the code necessary to produce only the unique fruit names.\u001b[0m\u001b[0m\n",
      "\n",
      "0                 kiwi\n",
      "1                mango\n",
      "2           strawberry\n",
      "3            pineapple\n",
      "4           gala apple\n",
      "5     honeycrisp apple\n",
      "6               tomato\n",
      "7           watermelon\n",
      "8             honeydew\n",
      "9            blueberry\n",
      "10          blackberry\n",
      "11          gooseberry\n",
      "12              papaya\n",
      "dtype: object\n"
     ]
    }
   ],
   "source": [
    "print_title(task_1c)\n",
    "\n",
    "fruit_names = pd.Series(fruits.unique())\n",
    "\n",
    "print(fruit_names)"
   ]
  },
  {
   "cell_type": "code",
   "execution_count": 341,
   "metadata": {},
   "outputs": [],
   "source": [
    "task_1d = '1.d. Determine how many times each value occurs in the series.'"
   ]
  },
  {
   "cell_type": "code",
   "execution_count": 342,
   "metadata": {},
   "outputs": [
    {
     "name": "stdout",
     "output_type": "stream",
     "text": [
      "\u001b[1m\u001b[34m\u001b[46m1.d. Determine how many times each value occurs in the series.\u001b[0m\u001b[0m\n",
      "\n",
      "kiwi                4\n",
      "mango               2\n",
      "blueberry           1\n",
      "pineapple           1\n",
      "tomato              1\n",
      "watermelon          1\n",
      "strawberry          1\n",
      "gooseberry          1\n",
      "blackberry          1\n",
      "gala apple          1\n",
      "papaya              1\n",
      "honeydew            1\n",
      "honeycrisp apple    1\n",
      "dtype: int64\n"
     ]
    }
   ],
   "source": [
    "print_title(task_1d)\n",
    "\n",
    "fruit_list = fruits.value_counts()\n",
    "\n",
    "print(fruit_list)"
   ]
  },
  {
   "cell_type": "code",
   "execution_count": 343,
   "metadata": {},
   "outputs": [],
   "source": [
    "task_1e = '1.e. Determine the most frequently occurring fruit name from the series.'"
   ]
  },
  {
   "cell_type": "code",
   "execution_count": 344,
   "metadata": {},
   "outputs": [
    {
     "name": "stdout",
     "output_type": "stream",
     "text": [
      "\u001b[1m\u001b[34m\u001b[46m1.e. Determine the most frequently occurring fruit name from the series.\u001b[0m\u001b[0m\n",
      "\n",
      "kiwi\n"
     ]
    }
   ],
   "source": [
    "print_title(task_1e)\n",
    "\n",
    "print(fruit_list.idxmax())"
   ]
  },
  {
   "cell_type": "code",
   "execution_count": 345,
   "metadata": {},
   "outputs": [],
   "source": [
    "task_1f = '1.f. Determine the least frequently occurring fruit name from the series.'"
   ]
  },
  {
   "cell_type": "code",
   "execution_count": 346,
   "metadata": {},
   "outputs": [
    {
     "name": "stdout",
     "output_type": "stream",
     "text": [
      "\u001b[1m\u001b[34m\u001b[46m1.f. Determine the least frequently occurring fruit name from the series.\u001b[0m\u001b[0m\n",
      "\n",
      "blueberry           1\n",
      "pineapple           1\n",
      "tomato              1\n",
      "watermelon          1\n",
      "strawberry          1\n",
      "gooseberry          1\n",
      "blackberry          1\n",
      "gala apple          1\n",
      "papaya              1\n",
      "honeydew            1\n",
      "honeycrisp apple    1\n",
      "dtype: int64\n"
     ]
    }
   ],
   "source": [
    "print_title(task_1f)\n",
    "\n",
    "least_frequent = fruits.value_counts().min()\n",
    "\n",
    "print(fruit_list[fruit_list == least_frequent])"
   ]
  },
  {
   "cell_type": "code",
   "execution_count": 347,
   "metadata": {},
   "outputs": [],
   "source": [
    "task_1g = '1.g .Write the code to get the longest string from the fruits series.'"
   ]
  },
  {
   "cell_type": "code",
   "execution_count": 348,
   "metadata": {},
   "outputs": [
    {
     "name": "stdout",
     "output_type": "stream",
     "text": [
      "\u001b[1m\u001b[34m\u001b[46m1.g .Write the code to get the longest string from the fruits series.\u001b[0m\u001b[0m\n",
      "\n",
      "honeycrisp apple\n"
     ]
    }
   ],
   "source": [
    "print_title(task_1g)\n",
    "\n",
    "print(fruits[fruits.apply(len).idxmax()])"
   ]
  },
  {
   "cell_type": "code",
   "execution_count": 349,
   "metadata": {},
   "outputs": [],
   "source": [
    "task_1h = '1.h. Find the fruit(s) with 5 or more letters in the name.'"
   ]
  },
  {
   "cell_type": "code",
   "execution_count": 350,
   "metadata": {},
   "outputs": [
    {
     "name": "stdout",
     "output_type": "stream",
     "text": [
      "\u001b[1m\u001b[34m\u001b[46m1.h. Find the fruit(s) with 5 or more letters in the name.\u001b[0m\u001b[0m\n",
      "\n",
      "1                mango\n",
      "2           strawberry\n",
      "3            pineapple\n",
      "4           gala apple\n",
      "5     honeycrisp apple\n",
      "6               tomato\n",
      "7           watermelon\n",
      "8             honeydew\n",
      "12               mango\n",
      "13           blueberry\n",
      "14          blackberry\n",
      "15          gooseberry\n",
      "16              papaya\n",
      "dtype: object\n"
     ]
    }
   ],
   "source": [
    "print_title(task_1h)\n",
    "\n",
    "print(fruits[fruits.apply(len) > 4])"
   ]
  },
  {
   "cell_type": "code",
   "execution_count": 351,
   "metadata": {},
   "outputs": [
    {
     "ename": "SyntaxError",
     "evalue": "invalid syntax (<ipython-input-351-63c8478645b2>, line 1)",
     "output_type": "error",
     "traceback": [
      "\u001b[0;36m  File \u001b[0;32m\"<ipython-input-351-63c8478645b2>\"\u001b[0;36m, line \u001b[0;32m1\u001b[0m\n\u001b[0;31m    i. Capitalize all the fruit strings in the series.\u001b[0m\n\u001b[0m                    ^\u001b[0m\n\u001b[0;31mSyntaxError\u001b[0m\u001b[0;31m:\u001b[0m invalid syntax\n"
     ]
    }
   ],
   "source": [
    "i. Capitalize all the fruit strings in the series."
   ]
  },
  {
   "cell_type": "code",
   "execution_count": 352,
   "metadata": {},
   "outputs": [
    {
     "name": "stdout",
     "output_type": "stream",
     "text": [
      "\u001b[1m\u001b[34m\u001b[46m1.b. Run .describe() on the series to see what describe returns for a series of strings.\u001b[0m\u001b[0m\n",
      "\n",
      "0                 Kiwi\n",
      "1                Mango\n",
      "2           Strawberry\n",
      "3            Pineapple\n",
      "4           Gala apple\n",
      "5     Honeycrisp apple\n",
      "6               Tomato\n",
      "7           Watermelon\n",
      "8             Honeydew\n",
      "9                 Kiwi\n",
      "10                Kiwi\n",
      "11                Kiwi\n",
      "12               Mango\n",
      "13           Blueberry\n",
      "14          Blackberry\n",
      "15          Gooseberry\n",
      "16              Papaya\n",
      "dtype: object\n"
     ]
    }
   ],
   "source": [
    "print_title(task_1b)\n",
    "\n",
    "print(fruits.str.capitalize())"
   ]
  },
  {
   "cell_type": "code",
   "execution_count": 353,
   "metadata": {},
   "outputs": [],
   "source": [
    "task_1j = '1.j. Count the letter \"a\" in all the fruits (use string vectorization)'"
   ]
  },
  {
   "cell_type": "code",
   "execution_count": 354,
   "metadata": {},
   "outputs": [
    {
     "name": "stdout",
     "output_type": "stream",
     "text": [
      "\u001b[1m\u001b[34m\u001b[46m1.j. Count the letter \"a\" in all the fruits (use string vectorization)\u001b[0m\u001b[0m\n",
      "\n",
      "0                 [kiwi, 0]\n",
      "1                [mango, 1]\n",
      "2           [strawberry, 1]\n",
      "3            [pineapple, 1]\n",
      "4           [gala apple, 3]\n",
      "5     [honeycrisp apple, 1]\n",
      "6               [tomato, 1]\n",
      "7           [watermelon, 1]\n",
      "8             [honeydew, 0]\n",
      "9                 [kiwi, 0]\n",
      "10                [kiwi, 0]\n",
      "11                [kiwi, 0]\n",
      "12               [mango, 1]\n",
      "13           [blueberry, 0]\n",
      "14          [blackberry, 1]\n",
      "15          [gooseberry, 0]\n",
      "16              [papaya, 3]\n",
      "dtype: object\n"
     ]
    }
   ],
   "source": [
    "print_title(task_1j)\n",
    "\n",
    "print(fruits.apply(lambda x: [x, sum([1 for xc in x if xc.lower() == 'a'])]))"
   ]
  },
  {
   "cell_type": "code",
   "execution_count": 355,
   "metadata": {},
   "outputs": [],
   "source": [
    "task_1k = '1.k. Output the number of vowels in each and every fruit.'"
   ]
  },
  {
   "cell_type": "code",
   "execution_count": 356,
   "metadata": {},
   "outputs": [
    {
     "name": "stdout",
     "output_type": "stream",
     "text": [
      "\u001b[1m\u001b[34m\u001b[46m1.k. Output the number of vowels in each and every fruit.\u001b[0m\u001b[0m\n",
      "\n",
      "0                 [kiwi, 2]\n",
      "1                [mango, 2]\n",
      "2           [strawberry, 2]\n",
      "3            [pineapple, 4]\n",
      "4           [gala apple, 4]\n",
      "5     [honeycrisp apple, 5]\n",
      "6               [tomato, 3]\n",
      "7           [watermelon, 4]\n",
      "8             [honeydew, 3]\n",
      "9                 [kiwi, 2]\n",
      "10                [kiwi, 2]\n",
      "11                [kiwi, 2]\n",
      "12               [mango, 2]\n",
      "13           [blueberry, 3]\n",
      "14          [blackberry, 2]\n",
      "15          [gooseberry, 4]\n",
      "16              [papaya, 3]\n",
      "dtype: object\n"
     ]
    }
   ],
   "source": [
    "print_title(task_1k)\n",
    "\n",
    "print(fruits.apply(lambda x: [x, sum([1 for xc in x if xc.lower() in 'aeiou'])]))"
   ]
  },
  {
   "cell_type": "code",
   "execution_count": 357,
   "metadata": {},
   "outputs": [],
   "source": [
    "task_1l = '1.l. Use the .apply method and a lambda function to find the fruit(s) containing two or more \"o\" letters in the name.'"
   ]
  },
  {
   "cell_type": "code",
   "execution_count": 358,
   "metadata": {},
   "outputs": [
    {
     "name": "stdout",
     "output_type": "stream",
     "text": [
      "\u001b[1m\u001b[34m\u001b[46m1.l. Use the .apply method and a lambda function to find the fruit(s) containing two or more \"o\" letters in the name.\u001b[0m\u001b[0m\n",
      "\n",
      "6         tomato\n",
      "15    gooseberry\n",
      "dtype: object\n"
     ]
    }
   ],
   "source": [
    "print_title(task_1l)\n",
    "\n",
    "print(fruits[fruits.apply(lambda x: sum([1 for xc in x if xc.lower() == 'o']) > 1)])"
   ]
  },
  {
   "cell_type": "code",
   "execution_count": 359,
   "metadata": {},
   "outputs": [],
   "source": [
    "task_1m = '1.m. Write the code to get only the fruits containing \"berry\" in the name'"
   ]
  },
  {
   "cell_type": "code",
   "execution_count": 360,
   "metadata": {},
   "outputs": [
    {
     "name": "stdout",
     "output_type": "stream",
     "text": [
      "\u001b[1m\u001b[34m\u001b[46m1.m. Write the code to get only the fruits containing \"berry\" in the name\u001b[0m\u001b[0m\n",
      "\n",
      "2     strawberry\n",
      "13     blueberry\n",
      "14    blackberry\n",
      "15    gooseberry\n",
      "dtype: object\n"
     ]
    }
   ],
   "source": [
    "print_title(task_1m)\n",
    "\n",
    "print(fruits[fruits.apply(lambda x: 'berry' in x.lower())])"
   ]
  },
  {
   "cell_type": "code",
   "execution_count": 361,
   "metadata": {},
   "outputs": [],
   "source": [
    "task_1n = '1.n. Write the code to get only the fruits containing \"apple\" in the name'"
   ]
  },
  {
   "cell_type": "code",
   "execution_count": 362,
   "metadata": {},
   "outputs": [
    {
     "name": "stdout",
     "output_type": "stream",
     "text": [
      "\u001b[1m\u001b[34m\u001b[46m1.n. Write the code to get only the fruits containing \"apple\" in the name\u001b[0m\u001b[0m\n",
      "\n",
      "3           pineapple\n",
      "4          gala apple\n",
      "5    honeycrisp apple\n",
      "dtype: object\n"
     ]
    }
   ],
   "source": [
    "print_title(task_1n)\n",
    "\n",
    "print(fruits[fruits.apply(lambda x: 'apple' in x.lower())])"
   ]
  },
  {
   "cell_type": "code",
   "execution_count": 363,
   "metadata": {},
   "outputs": [],
   "source": [
    "task_1o = '1.o. Which fruit has the highest amount of vowels'"
   ]
  },
  {
   "cell_type": "code",
   "execution_count": 364,
   "metadata": {},
   "outputs": [
    {
     "name": "stdout",
     "output_type": "stream",
     "text": [
      "\u001b[1m\u001b[34m\u001b[46m1.o. Which fruit has the highest amount of vowels\u001b[0m\u001b[0m\n",
      "\n",
      "honeycrisp apple\n"
     ]
    }
   ],
   "source": [
    "print_title(task_1o)\n",
    "\n",
    "print(fruits[fruits.apply(lambda x: sum([1 for xc in x if xc.lower() in 'aeiou'])).idxmax()])"
   ]
  },
  {
   "cell_type": "markdown",
   "metadata": {},
   "source": [
    "## 2. Use pandas to create a Series from the following data:\n",
    "\n",
    "`['$796,459.41', '$278.60', '$482,571.67', '$4,503,915.98', '$2,121,418.3', '$1,260,813.3', '$87,231.01', '$1,509,175.45', '$4,138,548.00', '$2,848,913.80', '$594,715.39', '$4,789,988.17', '$4,513,644.5', '$3,191,059.97', '$1,758,712.24', '$4,338,283.54', '$4,738,303.38', '$2,791,759.67', '$769,681.94', '$452,650.23']`"
   ]
  },
  {
   "cell_type": "code",
   "execution_count": 365,
   "metadata": {},
   "outputs": [
    {
     "name": "stdout",
     "output_type": "stream",
     "text": [
      "0       $796,459.41\n",
      "1           $278.60\n",
      "2       $482,571.67\n",
      "3     $4,503,915.98\n",
      "4      $2,121,418.3\n",
      "5      $1,260,813.3\n",
      "6        $87,231.01\n",
      "7     $1,509,175.45\n",
      "8     $4,138,548.00\n",
      "9     $2,848,913.80\n",
      "10      $594,715.39\n",
      "11    $4,789,988.17\n",
      "12     $4,513,644.5\n",
      "13    $3,191,059.97\n",
      "14    $1,758,712.24\n",
      "15    $4,338,283.54\n",
      "16    $4,738,303.38\n",
      "17    $2,791,759.67\n",
      "18      $769,681.94\n",
      "19      $452,650.23\n",
      "Name: Series2, dtype: object\n"
     ]
    }
   ],
   "source": [
    "Series2 = pd.Series(['$796,459.41', '$278.60', '$482,571.67', '$4,503,915.98', \n",
    "                     '$2,121,418.3', '$1,260,813.3', '$87,231.01', '$1,509,175.45', \n",
    "                     '$4,138,548.00', '$2,848,913.80', '$594,715.39', '$4,789,988.17', \n",
    "                     '$4,513,644.5', '$3,191,059.97', '$1,758,712.24', '$4,338,283.54', \n",
    "                     '$4,738,303.38', '$2,791,759.67', '$769,681.94', '$452,650.23'])\n",
    "Series2.name = 'Series2'\n",
    "print(Series2)"
   ]
  },
  {
   "cell_type": "code",
   "execution_count": 366,
   "metadata": {},
   "outputs": [],
   "source": [
    "task_2a = '2.a What is the data type of the series?'"
   ]
  },
  {
   "cell_type": "code",
   "execution_count": 367,
   "metadata": {},
   "outputs": [
    {
     "name": "stdout",
     "output_type": "stream",
     "text": [
      "\u001b[1m\u001b[34m\u001b[46m2.a What is the data type of the series?\u001b[0m\u001b[0m\n",
      "\n",
      "object\n"
     ]
    }
   ],
   "source": [
    "print_title(task_2a)\n",
    "\n",
    "print(Series2.dtype)"
   ]
  },
  {
   "cell_type": "code",
   "execution_count": 368,
   "metadata": {},
   "outputs": [],
   "source": [
    "task_2b = '2.b. Use series operations to convert the series to a numeric data type.'"
   ]
  },
  {
   "cell_type": "code",
   "execution_count": 369,
   "metadata": {},
   "outputs": [
    {
     "name": "stdout",
     "output_type": "stream",
     "text": [
      "\u001b[1m\u001b[34m\u001b[46m2.b. Use series operations to convert the series to a numeric data type.\u001b[0m\u001b[0m\n",
      "\n",
      "0      796459.41\n",
      "1         278.60\n",
      "2      482571.67\n",
      "3     4503915.98\n",
      "4     2121418.30\n",
      "5     1260813.30\n",
      "6       87231.01\n",
      "7     1509175.45\n",
      "8     4138548.00\n",
      "9     2848913.80\n",
      "10     594715.39\n",
      "11    4789988.17\n",
      "12    4513644.50\n",
      "13    3191059.97\n",
      "14    1758712.24\n",
      "15    4338283.54\n",
      "16    4738303.38\n",
      "17    2791759.67\n",
      "18     769681.94\n",
      "19     452650.23\n",
      "Name: Series2, dtype: float64\n"
     ]
    }
   ],
   "source": [
    "print_title(task_2b)\n",
    "\n",
    "amounts = Series2.apply(lambda wrd: float(''.join([ltr for ltr in wrd if ltr in '1234567890.'])))\n",
    "\n",
    "print(amounts)"
   ]
  },
  {
   "cell_type": "code",
   "execution_count": 370,
   "metadata": {},
   "outputs": [],
   "source": [
    "task_2c = '2.c. What is the maximum value? The minimum?'"
   ]
  },
  {
   "cell_type": "code",
   "execution_count": 371,
   "metadata": {},
   "outputs": [
    {
     "name": "stdout",
     "output_type": "stream",
     "text": [
      "\u001b[1m\u001b[34m\u001b[46m2.c. What is the maximum value? The minimum?\u001b[0m\u001b[0m\n",
      "\n",
      "Minimum value = \u001b[32m$      278.60\u001b[0m\n",
      "Maximum value = \u001b[32m$  4789988.17\u001b[0m\n"
     ]
    }
   ],
   "source": [
    "print_title(task_2c)\n",
    "\n",
    "print(f'Minimum value = {Fore.GREEN}${amounts.min():>12.2f}{Style.RESET_ALL}')\n",
    "print(f'Maximum value = {Fore.GREEN}${amounts.max():>12.2f}{Style.RESET_ALL}')"
   ]
  },
  {
   "cell_type": "code",
   "execution_count": 372,
   "metadata": {},
   "outputs": [],
   "source": [
    "task_2d = '2.d. Bin the data into 4 equally sized intervals and show how many values fall into each bin.'"
   ]
  },
  {
   "cell_type": "code",
   "execution_count": 373,
   "metadata": {},
   "outputs": [
    {
     "name": "stdout",
     "output_type": "stream",
     "text": [
      "\u001b[1m\u001b[34m\u001b[46m2.d. Bin the data into 4 equally sized intervals and show how many values fall into each bin.\u001b[0m\u001b[0m\n",
      "\n",
      "0        (-4511.11, 1197705.993]\n",
      "1        (-4511.11, 1197705.993]\n",
      "2        (-4511.11, 1197705.993]\n",
      "3      (3592560.778, 4789988.17]\n",
      "4     (1197705.993, 2395133.385]\n",
      "5     (1197705.993, 2395133.385]\n",
      "6        (-4511.11, 1197705.993]\n",
      "7     (1197705.993, 2395133.385]\n",
      "8      (3592560.778, 4789988.17]\n",
      "9     (2395133.385, 3592560.778]\n",
      "10       (-4511.11, 1197705.993]\n",
      "11     (3592560.778, 4789988.17]\n",
      "12     (3592560.778, 4789988.17]\n",
      "13    (2395133.385, 3592560.778]\n",
      "14    (1197705.993, 2395133.385]\n",
      "15     (3592560.778, 4789988.17]\n",
      "16     (3592560.778, 4789988.17]\n",
      "17    (2395133.385, 3592560.778]\n",
      "18       (-4511.11, 1197705.993]\n",
      "19       (-4511.11, 1197705.993]\n",
      "Name: Series2, dtype: category\n",
      "Categories (4, interval[float64]): [(-4511.11, 1197705.993] < (1197705.993, 2395133.385] < (2395133.385, 3592560.778] < (3592560.778, 4789988.17]]\n",
      "\u001b[1m\u001b[34m\u001b[46mCounts by bin\u001b[0m\u001b[0m\n",
      "\n",
      "(-4511.11, 1197705.993]       7\n",
      "(3592560.778, 4789988.17]     6\n",
      "(1197705.993, 2395133.385]    4\n",
      "(2395133.385, 3592560.778]    3\n",
      "Name: Series2, dtype: int64\n"
     ]
    }
   ],
   "source": [
    "print_title(task_2d)\n",
    "\n",
    "amount_bins = pd.cut(amounts, 4)\n",
    "\n",
    "print(amount_bins)\n",
    "print_title('Counts by bin')\n",
    "print(amount_bins.value_counts())"
   ]
  },
  {
   "cell_type": "code",
   "execution_count": 374,
   "metadata": {},
   "outputs": [],
   "source": [
    "task_2e = '2.e. Plot a histogram of the data. Be sure to include a title and axis labels.'"
   ]
  },
  {
   "cell_type": "code",
   "execution_count": 375,
   "metadata": {},
   "outputs": [
    {
     "name": "stdout",
     "output_type": "stream",
     "text": [
      "\u001b[1m\u001b[34m\u001b[46m2.e. Plot a histogram of the data. Be sure to include a title and axis labels.\u001b[0m\u001b[0m\n",
      "\n"
     ]
    },
    {
     "data": {
      "image/png": "[encoded data removed]",
      "text/plain": [
       "<Figure size 432x288 with 1 Axes>"
      ]
     },
     "metadata": {
      "needs_background": "light"
     },
     "output_type": "display_data"
    }
   ],
   "source": [
    "print_title(task_2e)\n",
    "\n",
    "#print(type(amount_bins))\n",
    "amounts.plot.hist()\n",
    "plt.show()"
   ]
  },
  {
   "cell_type": "markdown",
   "metadata": {},
   "source": [
    "## 3. Use pandas to create a Series from the following exam scores:\n",
    "\n",
    "`[60, 86, 75, 62, 93, 71, 60, 83, 95, 78, 65, 72, 69, 81, 96, 80, 85, 92, 82, 78]`"
   ]
  },
  {
   "cell_type": "code",
   "execution_count": 376,
   "metadata": {},
   "outputs": [
    {
     "name": "stdout",
     "output_type": "stream",
     "text": [
      "0     60\n",
      "1     86\n",
      "2     75\n",
      "3     62\n",
      "4     93\n",
      "5     71\n",
      "6     60\n",
      "7     83\n",
      "8     95\n",
      "9     78\n",
      "10    65\n",
      "11    72\n",
      "12    69\n",
      "13    81\n",
      "14    96\n",
      "15    80\n",
      "16    85\n",
      "17    92\n",
      "18    82\n",
      "19    78\n",
      "Name: Series3, dtype: int64\n"
     ]
    }
   ],
   "source": [
    "Series3 = pd.Series([60, 86, 75, 62, 93, 71, 60, 83, 95, 78, 65, 72, 69, 81, 96, 80, 85, 92, 82, 78])\n",
    "Series3.name = 'Series3'\n",
    "print(Series3)"
   ]
  },
  {
   "cell_type": "code",
   "execution_count": 377,
   "metadata": {},
   "outputs": [],
   "source": [
    "task_3a = '3.a What is the minimum exam score? The max, mean, median?'"
   ]
  },
  {
   "cell_type": "code",
   "execution_count": 378,
   "metadata": {},
   "outputs": [
    {
     "name": "stdout",
     "output_type": "stream",
     "text": [
      "\u001b[1m\u001b[34m\u001b[46m3.a What is the minimum exam score? The max, mean, median?\u001b[0m\u001b[0m\n",
      "\n",
      "count    20.000000\n",
      "mean     78.150000\n",
      "std      11.352139\n",
      "min      60.000000\n",
      "25%      70.500000\n",
      "50%      79.000000\n",
      "75%      85.250000\n",
      "max      96.000000\n",
      "Name: Series3, dtype: float64\n",
      "\n",
      "\u001b[36m\u001b[40mSeries3 25% pulled by describe() index value:\u001b[0m 70.5\n"
     ]
    }
   ],
   "source": [
    "print_title(task_3a)\n",
    "\n",
    "print(Series3.describe())\n",
    "print(f'\\n{Fore.CYAN}{Back.BLACK}Series3 25% pulled by describe() index value:{Style.RESET_ALL}', Series3.describe()['25%'])"
   ]
  },
  {
   "cell_type": "code",
   "execution_count": 379,
   "metadata": {},
   "outputs": [],
   "source": [
    "task_3b = '3.b. Plot a histogram of the scores.'"
   ]
  },
  {
   "cell_type": "code",
   "execution_count": 380,
   "metadata": {},
   "outputs": [
    {
     "name": "stdout",
     "output_type": "stream",
     "text": [
      "\u001b[1m\u001b[34m\u001b[46m3.b. Plot a histogram of the scores.\u001b[0m\u001b[0m\n",
      "\n"
     ]
    },
    {
     "data": {
      "image/png": "[encoded data removed]",
      "text/plain": [
       "<Figure size 432x288 with 1 Axes>"
      ]
     },
     "metadata": {
      "needs_background": "light"
     },
     "output_type": "display_data"
    }
   ],
   "source": [
    "print_title(task_3b)\n",
    "\n",
    "Series3.plot.hist()\n",
    "plt.show()"
   ]
  },
  {
   "cell_type": "code",
   "execution_count": 381,
   "metadata": {},
   "outputs": [],
   "source": [
    "task_3c = \"3.c. Convert each of the numbers above into a letter grade. \\n\"\\\n",
    "    \"For example, 86 should be a 'B' and 95 should be an 'A'.\""
   ]
  },
  {
   "cell_type": "code",
   "execution_count": 382,
   "metadata": {},
   "outputs": [
    {
     "name": "stdout",
     "output_type": "stream",
     "text": [
      "\u001b[1m\u001b[34m\u001b[46m3.c. Convert each of the numbers above into a letter grade. \n",
      "For example, 86 should be a 'B' and 95 should be an 'A'.\u001b[0m\u001b[0m\n",
      "\n",
      "    Score Grade\n",
      "0      60     D\n",
      "1      86     B\n",
      "2      75     C\n",
      "3      62     D\n",
      "4      93     A\n",
      "5      71     C\n",
      "6      60     D\n",
      "7      83     B\n",
      "8      95     A\n",
      "9      78     C\n",
      "10     65     D\n",
      "11     72     C\n",
      "12     69     D\n",
      "13     81     B\n",
      "14     96     A\n",
      "15     80     B\n",
      "16     85     B\n",
      "17     92     A\n",
      "18     82     B\n",
      "19     78     C\n"
     ]
    }
   ],
   "source": [
    "print_title(task_3c)\n",
    "\n",
    "bin_grades = lambda pdS: pd.cut(pdS.apply(round), [0,59,69,79,89,100], labels=['F','D','C','B','A'])\n",
    "\n",
    "grade_bins = bin_grades(Series3)\n",
    "\n",
    "grades_num_ltr = pd.DataFrame(list(zip(Series3,grade_bins)), columns=['Score', 'Grade'])\n",
    "\n",
    "print(grades_num_ltr)"
   ]
  },
  {
   "cell_type": "code",
   "execution_count": 383,
   "metadata": {},
   "outputs": [],
   "source": [
    "task_3d = '3.d Write the code necessary to implement a curve. I.e. that grade \\n'\\\n",
    "    'closest to 100 should be converted to a 100, and that many points \\n'\\\n",
    "    'should be given to every other score as well.'"
   ]
  },
  {
   "cell_type": "code",
   "execution_count": 384,
   "metadata": {},
   "outputs": [
    {
     "name": "stdout",
     "output_type": "stream",
     "text": [
      "\u001b[1m\u001b[34m\u001b[46m3.d Write the code necessary to implement a curve. I.e. that grade \n",
      "closest to 100 should be converted to a 100, and that many points \n",
      "should be given to every other score as well.\u001b[0m\u001b[0m\n",
      "\n",
      "    Orig Score Orig Grade  New Score New Grade\n",
      "0           60          D         64         D\n",
      "1           86          B         90         A\n",
      "2           75          C         79         C\n",
      "3           62          D         66         D\n",
      "4           93          A         97         A\n",
      "5           71          C         75         C\n",
      "6           60          D         64         D\n",
      "7           83          B         87         B\n",
      "8           95          A         99         A\n",
      "9           78          C         82         B\n",
      "10          65          D         69         D\n",
      "11          72          C         76         C\n",
      "12          69          D         73         C\n",
      "13          81          B         85         B\n",
      "14          96          A        100         A\n",
      "15          80          B         84         B\n",
      "16          85          B         89         B\n",
      "17          92          A         96         A\n",
      "18          82          B         86         B\n",
      "19          78          C         82         B\n"
     ]
    }
   ],
   "source": [
    "print_title(task_3d)\n",
    "\n",
    "grade_buffer = 100 - Series3.max()\n",
    "new_grades = Series3 + grade_buffer\n",
    "new_grade_bins = bin_grades(new_grades)\n",
    "\n",
    "grades_change_chart = pd.DataFrame(\n",
    "    list(zip(Series3,grade_bins,new_grades,new_grade_bins)),\n",
    "    columns=['Orig Score','Orig Grade','New Score','New Grade'])\n",
    "print(grades_change_chart)"
   ]
  },
  {
   "cell_type": "markdown",
   "metadata": {},
   "source": [
    "## 4. Use pandas to create a Series from the following string:\n",
    "\n",
    "`'hnvidduckkqxwymbimkccexbkmqygkxoyndmcxnwqarhyffsjpsrabtjzsypmzadfavyrnndndvswreauxovncxtwzpwejilzjrmmbbgbyxvjtewqthafnbkqplarokkyydtubbmnexoypulzwfhqvckdpqtpoppzqrmcvhhpwgjwupgzhiofohawytlsiyecuproguy'`"
   ]
  },
  {
   "cell_type": "code",
   "execution_count": 385,
   "metadata": {},
   "outputs": [
    {
     "name": "stdout",
     "output_type": "stream",
     "text": [
      "0      h\n",
      "1      n\n",
      "2      v\n",
      "3      i\n",
      "4      d\n",
      "5      d\n",
      "6      u\n",
      "7      c\n",
      "8      k\n",
      "9      k\n",
      "10     q\n",
      "11     x\n",
      "12     w\n",
      "13     y\n",
      "14     m\n",
      "15     b\n",
      "16     i\n",
      "17     m\n",
      "18     k\n",
      "19     c\n",
      "20     c\n",
      "21     e\n",
      "22     x\n",
      "23     b\n",
      "24     k\n",
      "25     m\n",
      "26     q\n",
      "27     y\n",
      "28     g\n",
      "29     k\n",
      "      ..\n",
      "170    g\n",
      "171    j\n",
      "172    w\n",
      "173    u\n",
      "174    p\n",
      "175    g\n",
      "176    z\n",
      "177    h\n",
      "178    i\n",
      "179    o\n",
      "180    f\n",
      "181    o\n",
      "182    h\n",
      "183    a\n",
      "184    w\n",
      "185    y\n",
      "186    t\n",
      "187    l\n",
      "188    s\n",
      "189    i\n",
      "190    y\n",
      "191    e\n",
      "192    c\n",
      "193    u\n",
      "194    p\n",
      "195    r\n",
      "196    o\n",
      "197    g\n",
      "198    u\n",
      "199    y\n",
      "Length: 200, dtype: object\n"
     ]
    }
   ],
   "source": [
    "String4 = 'hnvidduckkqxwymbimkccexbkmqygkxoyndmcxnwqarhyffsjpsrabtjzsypmzadfavyrnndndvswreauxovncxtwzpwejilzjrmmbbgbyxvjtewqthafnbkqplarokkyydtubbmnexoypulzwfhqvckdpqtpoppzqrmcvhhpwgjwupgzhiofohawytlsiyecuproguy'\n",
    "Series4 = pd.Series(list(String4))\n",
    "\n",
    "print(Series4)"
   ]
  },
  {
   "cell_type": "code",
   "execution_count": 386,
   "metadata": {},
   "outputs": [],
   "source": [
    "task_4a = '4.a. What is the most frequently occuring letter? Least frequently occuring?'"
   ]
  },
  {
   "cell_type": "code",
   "execution_count": 387,
   "metadata": {},
   "outputs": [
    {
     "name": "stdout",
     "output_type": "stream",
     "text": [
      "\u001b[1m\u001b[34m\u001b[46m4.a. What is the most frequently occuring letter? Least frequently occuring?\u001b[0m\u001b[0m\n",
      "\n",
      "y    13\n",
      "p    12\n",
      "w    10\n",
      "b     9\n",
      "k     9\n",
      "m     9\n",
      "n     9\n",
      "q     8\n",
      "d     8\n",
      "r     8\n",
      "h     8\n",
      "a     8\n",
      "x     8\n",
      "c     8\n",
      "o     8\n",
      "u     7\n",
      "t     7\n",
      "v     7\n",
      "z     7\n",
      "j     6\n",
      "f     6\n",
      "e     6\n",
      "g     5\n",
      "i     5\n",
      "s     5\n",
      "l     4\n",
      "dtype: int64\n",
      "\u001b[1m\u001b[32mMost frequent:\n",
      "\u001b[0m\u001b[0m y    13\n",
      "dtype: int64\n",
      "\u001b[1m\u001b[31mLeast frequent:\n",
      "\u001b[0m\u001b[0m l    4\n",
      "dtype: int64\n"
     ]
    }
   ],
   "source": [
    "print_title(task_4a)\n",
    "\n",
    "Letters_list = Series4.value_counts()\n",
    "print(Letters_list)\n",
    "\n",
    "highest_frequency = Letters_list.max()\n",
    "lowest_frequency = Letters_list.min()\n",
    "\n",
    "letters_used_most = Letters_list[Letters_list == highest_frequency]\n",
    "letters_used_least = Letters_list[Letters_list == lowest_frequency]\n",
    "\n",
    "print(fancify(fancify('Most frequent:\\n',Fore.GREEN)),letters_used_most)\n",
    "print(fancify(fancify('Least frequent:\\n',Fore.RED)),letters_used_least)"
   ]
  },
  {
   "cell_type": "code",
   "execution_count": 388,
   "metadata": {},
   "outputs": [],
   "source": [
    "task_4b = '4.b. How many vowels are in the list?'"
   ]
  },
  {
   "cell_type": "code",
   "execution_count": 389,
   "metadata": {},
   "outputs": [
    {
     "name": "stdout",
     "output_type": "stream",
     "text": [
      "\u001b[1m\u001b[34m\u001b[46m4.b. How many vowels are in the list?\u001b[0m\u001b[0m\n",
      "\n",
      "34\n"
     ]
    }
   ],
   "source": [
    "print_title(task_4b)\n",
    "\n",
    "vowel_count = sum(Letters_list[list('aeiou')])\n",
    "\n",
    "print(vowel_count)"
   ]
  },
  {
   "cell_type": "code",
   "execution_count": 390,
   "metadata": {},
   "outputs": [],
   "source": [
    "task_4c = '4.c. How many consonants are in the list?'"
   ]
  },
  {
   "cell_type": "code",
   "execution_count": 391,
   "metadata": {},
   "outputs": [
    {
     "name": "stdout",
     "output_type": "stream",
     "text": [
      "\u001b[1m\u001b[34m\u001b[46m4.c. How many consonants are in the list?\u001b[0m\u001b[0m\n",
      "\n",
      "166\n"
     ]
    }
   ],
   "source": [
    "print_title(task_4c)\n",
    "\n",
    "print(sum(Letters_list) - vowel_count)"
   ]
  },
  {
   "cell_type": "code",
   "execution_count": 392,
   "metadata": {},
   "outputs": [],
   "source": [
    "task_4d = '4.d. Create a series that has all of the same letters, but uppercased'"
   ]
  },
  {
   "cell_type": "code",
   "execution_count": 393,
   "metadata": {},
   "outputs": [
    {
     "name": "stdout",
     "output_type": "stream",
     "text": [
      "\u001b[1m\u001b[34m\u001b[46m4.d. Create a series that has all of the same letters, but uppercased\u001b[0m\u001b[0m\n",
      "\n",
      "0      H\n",
      "1      N\n",
      "2      V\n",
      "3      I\n",
      "4      D\n",
      "5      D\n",
      "6      U\n",
      "7      C\n",
      "8      K\n",
      "9      K\n",
      "10     Q\n",
      "11     X\n",
      "12     W\n",
      "13     Y\n",
      "14     M\n",
      "15     B\n",
      "16     I\n",
      "17     M\n",
      "18     K\n",
      "19     C\n",
      "20     C\n",
      "21     E\n",
      "22     X\n",
      "23     B\n",
      "24     K\n",
      "25     M\n",
      "26     Q\n",
      "27     Y\n",
      "28     G\n",
      "29     K\n",
      "      ..\n",
      "170    G\n",
      "171    J\n",
      "172    W\n",
      "173    U\n",
      "174    P\n",
      "175    G\n",
      "176    Z\n",
      "177    H\n",
      "178    I\n",
      "179    O\n",
      "180    F\n",
      "181    O\n",
      "182    H\n",
      "183    A\n",
      "184    W\n",
      "185    Y\n",
      "186    T\n",
      "187    L\n",
      "188    S\n",
      "189    I\n",
      "190    Y\n",
      "191    E\n",
      "192    C\n",
      "193    U\n",
      "194    P\n",
      "195    R\n",
      "196    O\n",
      "197    G\n",
      "198    U\n",
      "199    Y\n",
      "Length: 200, dtype: object\n"
     ]
    }
   ],
   "source": [
    "print_title(task_4d)\n",
    "\n",
    "Series4_upper = Series4.str.upper()\n",
    "print(Series4_upper)"
   ]
  },
  {
   "cell_type": "code",
   "execution_count": 394,
   "metadata": {},
   "outputs": [],
   "source": [
    "task_4e = '4.e. Create a bar plot of the frequencies of the 6 most frequently occuring letters.'"
   ]
  },
  {
   "cell_type": "code",
   "execution_count": 395,
   "metadata": {},
   "outputs": [
    {
     "name": "stdout",
     "output_type": "stream",
     "text": [
      "\u001b[1m\u001b[34m\u001b[46m4.e. Create a bar plot of the frequencies of the 6 most frequently occuring letters.\u001b[0m\u001b[0m\n",
      "\n",
      "\u001b[1mTop Six Letters\u001b[0m\n",
      "y    13\n",
      "p    12\n",
      "w    10\n",
      "b     9\n",
      "k     9\n",
      "m     9\n",
      "n     9\n",
      "dtype: int64\n"
     ]
    },
    {
     "data": {
      "image/png": "[encoded data removed]",
      "text/plain": [
       "<Figure size 432x288 with 1 Axes>"
      ]
     },
     "metadata": {
      "needs_background": "light"
     },
     "output_type": "display_data"
    }
   ],
   "source": [
    "print_title(task_4e)\n",
    "\n",
    "top_six_count = Letters_list[5]\n",
    "Top_six_letters = Letters_list[Letters_list >= top_six_count]\n",
    "print(fancify('Top Six Letters'))\n",
    "print(Top_six_letters)\n",
    "top_six_string = ''.join(list(Top_six_letters.index))\n",
    "in_top_six = lambda x: x in Top_six_letters.index\n",
    "Series4_top_six = Series4[Series4.apply(in_top_six)]\n",
    "#print(fancify('Occurrances in Series4'))\n",
    "#print(Series4_top_six)\n",
    "#print()\n",
    "\n",
    "#Series4_top_six.plot()\n",
    "Top_six_letters.plot.bar()\n",
    "plt.show()"
   ]
  },
  {
   "cell_type": "code",
   "execution_count": null,
   "metadata": {},
   "outputs": [],
   "source": []
  }
 ],
 "metadata": {
  "kernelspec": {
   "display_name": "Python 3",
   "language": "python",
   "name": "python3"
  },
  "language_info": {
   "codemirror_mode": {
    "name": "ipython",
    "version": 3
   },
   "file_extension": ".py",
   "mimetype": "text/x-python",
   "name": "python",
   "nbconvert_exporter": "python",
   "pygments_lexer": "ipython3",
   "version": "3.7.3"
  }
 },
 "nbformat": 4,
 "nbformat_minor": 2
}
