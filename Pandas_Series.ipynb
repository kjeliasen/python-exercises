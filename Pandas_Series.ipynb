{
 "cells": [
  {
   "cell_type": "markdown",
   "metadata": {},
   "source": [
    "# Exercises\n",
    "Make a file named `pandas_series.py` or `pandas_series.ipynb` for the following exercises."
   ]
  },
  {
   "cell_type": "code",
   "execution_count": 17,
   "metadata": {},
   "outputs": [],
   "source": [
    "import pandas as pd\n",
    "import numpy as np\n",
    "import math\n",
    "\n",
    "from colorama import init, Fore, Back, Style\n",
    "def fancify(text, fancy=Style.BRIGHT):\n",
    "    return f'{fancy}{str(text)}{Style.RESET_ALL}'\n",
    "def print_title(text):\n",
    "    return print(fancify(fancify(text, Fore.BLUE)) + '\\n')"
   ]
  },
  {
   "cell_type": "markdown",
   "metadata": {},
   "source": [
    "1. Use pandas to create a Series from the following data:\n",
    "\n",
    "`[\"kiwi\", \"mango\", \"strawberry\", \"pineapple\", \"gala apple\", \"honeycrisp apple\", \"tomato\", \"watermelon\", \"honeydew\", \"kiwi\", \"kiwi\", \"kiwi\", \"mango\", \"blueberry\", \"blackberry\", \"gooseberry\", \"papaya\"]`"
   ]
  },
  {
   "cell_type": "code",
   "execution_count": 21,
   "metadata": {},
   "outputs": [],
   "source": [
    "task_1a=('1.a. Name the variable that holds the series fruits.')"
   ]
  },
  {
   "cell_type": "code",
   "execution_count": 69,
   "metadata": {},
   "outputs": [
    {
     "name": "stdout",
     "output_type": "stream",
     "text": [
      "\u001b[1m\u001b[34m1.a. Name the variable that holds the series fruits.\u001b[0m\u001b[0m\n",
      "\n",
      "0                 kiwi\n",
      "1                mango\n",
      "2           strawberry\n",
      "3            pineapple\n",
      "4           gala apple\n",
      "5     honeycrisp apple\n",
      "6               tomato\n",
      "7           watermelon\n",
      "8             honeydew\n",
      "9                 kiwi\n",
      "10                kiwi\n",
      "11                kiwi\n",
      "12               mango\n",
      "13           blueberry\n",
      "14          blackberry\n",
      "15          gooseberry\n",
      "16              papaya\n",
      "dtype: object\n"
     ]
    }
   ],
   "source": [
    "print_title(task_1a)\n",
    "\n",
    "fruits = pd.Series([\"kiwi\", \"mango\", \"strawberry\", \"pineapple\", \"gala apple\", \n",
    "                    \"honeycrisp apple\", \"tomato\", \"watermelon\", \"honeydew\", \n",
    "                    \"kiwi\", \"kiwi\", \"kiwi\", \"mango\", \"blueberry\", \"blackberry\", \n",
    "                    \"gooseberry\", \"papaya\"])\n",
    "print(fruits)"
   ]
  },
  {
   "cell_type": "code",
   "execution_count": 23,
   "metadata": {},
   "outputs": [],
   "source": [
    "task_1b = '1.b. Run .describe() on the series to see what describe returns for a series of strings.'"
   ]
  },
  {
   "cell_type": "code",
   "execution_count": 24,
   "metadata": {},
   "outputs": [
    {
     "name": "stdout",
     "output_type": "stream",
     "text": [
      "\u001b[1m\u001b[34m1.b. Run .describe() on the series to see what describe returns for a series of strings.\u001b[0m\u001b[0m\n",
      "\n",
      "count       17\n",
      "unique      13\n",
      "top       kiwi\n",
      "freq         4\n",
      "dtype: object\n"
     ]
    }
   ],
   "source": [
    "print_title(task_1b)\n",
    "print(fruits.describe())"
   ]
  },
  {
   "cell_type": "code",
   "execution_count": 26,
   "metadata": {},
   "outputs": [],
   "source": [
    "task_1c = '1.c. Run the code necessary to produce only the unique fruit names.'"
   ]
  },
  {
   "cell_type": "code",
   "execution_count": 218,
   "metadata": {},
   "outputs": [
    {
     "name": "stdout",
     "output_type": "stream",
     "text": [
      "\u001b[1m\u001b[34m1.c. Run the code necessary to produce only the unique fruit names.\u001b[0m\u001b[0m\n",
      "\n",
      "0                 kiwi\n",
      "1                mango\n",
      "2           strawberry\n",
      "3            pineapple\n",
      "4           gala apple\n",
      "5     honeycrisp apple\n",
      "6               tomato\n",
      "7           watermelon\n",
      "8             honeydew\n",
      "9            blueberry\n",
      "10          blackberry\n",
      "11          gooseberry\n",
      "12              papaya\n",
      "dtype: object\n"
     ]
    }
   ],
   "source": [
    "print_title(task_1c)\n",
    "\n",
    "fruit_names = pd.Series(fruits.unique())\n",
    "\n",
    "print(fruit_names)"
   ]
  },
  {
   "cell_type": "code",
   "execution_count": 57,
   "metadata": {},
   "outputs": [],
   "source": [
    "task_1d = '1.d. Determine how many times each value occurs in the series.'"
   ]
  },
  {
   "cell_type": "code",
   "execution_count": 58,
   "metadata": {},
   "outputs": [
    {
     "name": "stdout",
     "output_type": "stream",
     "text": [
      "\u001b[1m\u001b[34m1.d. Determine how many times each value occurs in the series.\u001b[0m\u001b[0m\n",
      "\n",
      "kiwi                4\n",
      "mango               2\n",
      "blueberry           1\n",
      "pineapple           1\n",
      "tomato              1\n",
      "watermelon          1\n",
      "strawberry          1\n",
      "gooseberry          1\n",
      "blackberry          1\n",
      "gala apple          1\n",
      "papaya              1\n",
      "honeydew            1\n",
      "honeycrisp apple    1\n",
      "dtype: int64\n"
     ]
    }
   ],
   "source": [
    "print_title(task_1d)\n",
    "\n",
    "fruit_list = fruits.value_counts()\n",
    "\n",
    "print(fruit_list)"
   ]
  },
  {
   "cell_type": "code",
   "execution_count": 31,
   "metadata": {},
   "outputs": [],
   "source": [
    "task_1e = '1.e. Determine the most frequently occurring fruit name from the series.'"
   ]
  },
  {
   "cell_type": "code",
   "execution_count": 187,
   "metadata": {},
   "outputs": [
    {
     "name": "stdout",
     "output_type": "stream",
     "text": [
      "\u001b[1m\u001b[34m1.e. Determine the most frequently occurring fruit name from the series.\u001b[0m\u001b[0m\n",
      "\n",
      "kiwi\n"
     ]
    }
   ],
   "source": [
    "print_title(task_1e)\n",
    "\n",
    "print(fruit_list.idxmax())"
   ]
  },
  {
   "cell_type": "code",
   "execution_count": 34,
   "metadata": {},
   "outputs": [],
   "source": [
    "task_1f = '1.f. Determine the least frequently occurring fruit name from the series.'"
   ]
  },
  {
   "cell_type": "code",
   "execution_count": 203,
   "metadata": {},
   "outputs": [
    {
     "name": "stdout",
     "output_type": "stream",
     "text": [
      "\u001b[1m\u001b[34m1.f. Determine the least frequently occurring fruit name from the series.\u001b[0m\u001b[0m\n",
      "\n",
      "blueberry           1\n",
      "pineapple           1\n",
      "tomato              1\n",
      "watermelon          1\n",
      "strawberry          1\n",
      "gooseberry          1\n",
      "blackberry          1\n",
      "gala apple          1\n",
      "papaya              1\n",
      "honeydew            1\n",
      "honeycrisp apple    1\n",
      "dtype: int64\n"
     ]
    }
   ],
   "source": [
    "print_title(task_1f)\n",
    "\n",
    "least_frequent = fruits.value_counts().min()\n",
    "\n",
    "print(fruit_list[fruit_list == least_frequent])"
   ]
  },
  {
   "cell_type": "code",
   "execution_count": 36,
   "metadata": {},
   "outputs": [],
   "source": [
    "task_1g = '1.g .Write the code to get the longest string from the fruits series.'"
   ]
  },
  {
   "cell_type": "code",
   "execution_count": 66,
   "metadata": {},
   "outputs": [
    {
     "name": "stdout",
     "output_type": "stream",
     "text": [
      "\u001b[1m\u001b[34m1.g .Write the code to get the longest string from the fruits series.\u001b[0m\u001b[0m\n",
      "\n",
      "honeycrisp apple\n"
     ]
    }
   ],
   "source": [
    "print_title(task_1g)\n",
    "\n",
    "print(fruits[fruits.apply(len).idxmax()])"
   ]
  },
  {
   "cell_type": "code",
   "execution_count": 67,
   "metadata": {},
   "outputs": [],
   "source": [
    "task_1h = '1.h. Find the fruit(s) with 5 or more letters in the name.'"
   ]
  },
  {
   "cell_type": "code",
   "execution_count": 68,
   "metadata": {},
   "outputs": [
    {
     "name": "stdout",
     "output_type": "stream",
     "text": [
      "\u001b[1m\u001b[34m1.h. Find the fruit(s) with 5 or more letters in the name.\u001b[0m\u001b[0m\n",
      "\n",
      "1           strawberry\n",
      "2                mango\n",
      "3            pineapple\n",
      "4           gala apple\n",
      "5     honeycrisp apple\n",
      "6               tomato\n",
      "7           watermelon\n",
      "8             honeydew\n",
      "12               mango\n",
      "13           blueberry\n",
      "14          blackberry\n",
      "15          gooseberry\n",
      "16              papaya\n",
      "dtype: object\n"
     ]
    }
   ],
   "source": [
    "print_title(task_1h)\n",
    "\n",
    "print(fruits[fruits.apply(len) > 4])"
   ]
  },
  {
   "cell_type": "code",
   "execution_count": null,
   "metadata": {},
   "outputs": [],
   "source": [
    "i. Capitalize all the fruit strings in the series."
   ]
  },
  {
   "cell_type": "code",
   "execution_count": 71,
   "metadata": {},
   "outputs": [
    {
     "name": "stdout",
     "output_type": "stream",
     "text": [
      "\u001b[1m\u001b[34m1.b. Run .describe() on the series to see what describe returns for a series of strings.\u001b[0m\u001b[0m\n",
      "\n",
      "0                 Kiwi\n",
      "1                Mango\n",
      "2           Strawberry\n",
      "3            Pineapple\n",
      "4           Gala apple\n",
      "5     Honeycrisp apple\n",
      "6               Tomato\n",
      "7           Watermelon\n",
      "8             Honeydew\n",
      "9                 Kiwi\n",
      "10                Kiwi\n",
      "11                Kiwi\n",
      "12               Mango\n",
      "13           Blueberry\n",
      "14          Blackberry\n",
      "15          Gooseberry\n",
      "16              Papaya\n",
      "dtype: object\n"
     ]
    }
   ],
   "source": [
    "print_title(task_1b)\n",
    "\n",
    "print(fruits.str.capitalize())"
   ]
  },
  {
   "cell_type": "code",
   "execution_count": 73,
   "metadata": {},
   "outputs": [],
   "source": [
    "task_1j = '1.j. Count the letter \"a\" in all the fruits (use string vectorization)'"
   ]
  },
  {
   "cell_type": "code",
   "execution_count": 107,
   "metadata": {},
   "outputs": [
    {
     "name": "stdout",
     "output_type": "stream",
     "text": [
      "\u001b[1m\u001b[34m1.j. Count the letter \"a\" in all the fruits (use string vectorization)\u001b[0m\u001b[0m\n",
      "\n",
      "0                 [kiwi, 0]\n",
      "1                [mango, 1]\n",
      "2           [strawberry, 1]\n",
      "3            [pineapple, 1]\n",
      "4           [gala apple, 3]\n",
      "5     [honeycrisp apple, 1]\n",
      "6               [tomato, 1]\n",
      "7           [watermelon, 1]\n",
      "8             [honeydew, 0]\n",
      "9                 [kiwi, 0]\n",
      "10                [kiwi, 0]\n",
      "11                [kiwi, 0]\n",
      "12               [mango, 1]\n",
      "13           [blueberry, 0]\n",
      "14          [blackberry, 1]\n",
      "15          [gooseberry, 0]\n",
      "16              [papaya, 3]\n",
      "dtype: object\n"
     ]
    }
   ],
   "source": [
    "print_title(task_1j)\n",
    "\n",
    "print(fruits.apply(lambda x: [x, sum([1 for xc in x if xc.lower() == 'a'])]))"
   ]
  },
  {
   "cell_type": "code",
   "execution_count": 76,
   "metadata": {},
   "outputs": [],
   "source": [
    "task_1k = '1.k. Output the number of vowels in each and every fruit.'"
   ]
  },
  {
   "cell_type": "code",
   "execution_count": 108,
   "metadata": {},
   "outputs": [
    {
     "name": "stdout",
     "output_type": "stream",
     "text": [
      "\u001b[1m\u001b[34m1.k. Output the number of vowels in each and every fruit.\u001b[0m\u001b[0m\n",
      "\n",
      "0                 [kiwi, 2]\n",
      "1                [mango, 2]\n",
      "2           [strawberry, 2]\n",
      "3            [pineapple, 4]\n",
      "4           [gala apple, 4]\n",
      "5     [honeycrisp apple, 5]\n",
      "6               [tomato, 3]\n",
      "7           [watermelon, 4]\n",
      "8             [honeydew, 3]\n",
      "9                 [kiwi, 2]\n",
      "10                [kiwi, 2]\n",
      "11                [kiwi, 2]\n",
      "12               [mango, 2]\n",
      "13           [blueberry, 3]\n",
      "14          [blackberry, 2]\n",
      "15          [gooseberry, 4]\n",
      "16              [papaya, 3]\n",
      "dtype: object\n"
     ]
    }
   ],
   "source": [
    "print_title(task_1k)\n",
    "\n",
    "print(fruits.apply(lambda x: [x, sum([1 for xc in x if xc.lower() in 'aeiou'])]))"
   ]
  },
  {
   "cell_type": "code",
   "execution_count": 88,
   "metadata": {},
   "outputs": [],
   "source": [
    "task_1l = '1.l. Use the .apply method and a lambda function to find the fruit(s) containing two or more \"o\" letters in the name.'"
   ]
  },
  {
   "cell_type": "code",
   "execution_count": 90,
   "metadata": {},
   "outputs": [
    {
     "name": "stdout",
     "output_type": "stream",
     "text": [
      "\u001b[1m\u001b[34m1.l. Use the .apply method and a lambda function to find the fruit(s) containing two or more \"o\" letters in the name.\u001b[0m\u001b[0m\n",
      "\n",
      "6         tomato\n",
      "15    gooseberry\n",
      "dtype: object\n"
     ]
    }
   ],
   "source": [
    "print_title(task_1l)\n",
    "\n",
    "print(fruits[fruits.apply(lambda x: sum([1 for xc in x if xc.lower() == 'o']) > 1)])"
   ]
  },
  {
   "cell_type": "code",
   "execution_count": 109,
   "metadata": {},
   "outputs": [],
   "source": [
    "task_1m = '1.m. Write the code to get only the fruits containing \"berry\" in the name'"
   ]
  },
  {
   "cell_type": "code",
   "execution_count": 118,
   "metadata": {},
   "outputs": [
    {
     "name": "stdout",
     "output_type": "stream",
     "text": [
      "\u001b[1m\u001b[34m1.m. Write the code to get only the fruits containing \"berry\" in the name\u001b[0m\u001b[0m\n",
      "\n",
      "2     strawberry\n",
      "13     blueberry\n",
      "14    blackberry\n",
      "15    gooseberry\n",
      "dtype: object\n"
     ]
    }
   ],
   "source": [
    "print_title(task_1m)\n",
    "\n",
    "print(fruits[fruits.apply(lambda x: 'berry' in x.lower())])"
   ]
  },
  {
   "cell_type": "code",
   "execution_count": 114,
   "metadata": {},
   "outputs": [],
   "source": [
    "task_1n = '1.n. Write the code to get only the fruits containing \"apple\" in the name'"
   ]
  },
  {
   "cell_type": "code",
   "execution_count": 117,
   "metadata": {},
   "outputs": [
    {
     "name": "stdout",
     "output_type": "stream",
     "text": [
      "\u001b[1m\u001b[34m1.n. Write the code to get only the fruits containing \"apple\" in the name\u001b[0m\u001b[0m\n",
      "\n",
      "3           pineapple\n",
      "4          gala apple\n",
      "5    honeycrisp apple\n",
      "dtype: object\n"
     ]
    }
   ],
   "source": [
    "print_title(task_1n)\n",
    "\n",
    "print(fruits[fruits.apply(lambda x: 'apple' in x.lower())])"
   ]
  },
  {
   "cell_type": "code",
   "execution_count": 119,
   "metadata": {},
   "outputs": [],
   "source": [
    "task_1o = '1.o. Which fruit has the highest amount of vowels'"
   ]
  },
  {
   "cell_type": "code",
   "execution_count": 123,
   "metadata": {},
   "outputs": [
    {
     "name": "stdout",
     "output_type": "stream",
     "text": [
      "\u001b[1m\u001b[34m1.o. Which fruit has the highest amount of vowels\u001b[0m\u001b[0m\n",
      "\n",
      "honeycrisp apple\n"
     ]
    }
   ],
   "source": [
    "print_title(task_1o)\n",
    "\n",
    "print(fruits[fruits.apply(lambda x: sum([1 for xc in x if xc.lower() in 'aeiou'])).idxmax()])"
   ]
  },
  {
   "cell_type": "markdown",
   "metadata": {},
   "source": [
    "2. Use pandas to create a Series from the following data:\n",
    "\n",
    "`['$796,459.41', '$278.60', '$482,571.67', '$4,503,915.98', '$2,121,418.3', '$1,260,813.3', '$87,231.01', '$1,509,175.45', '$4,138,548.00', '$2,848,913.80', '$594,715.39', '$4,789,988.17', '$4,513,644.5', '$3,191,059.97', '$1,758,712.24', '$4,338,283.54', '$4,738,303.38', '$2,791,759.67', '$769,681.94', '$452,650.23']`"
   ]
  },
  {
   "cell_type": "code",
   "execution_count": 195,
   "metadata": {},
   "outputs": [
    {
     "name": "stdout",
     "output_type": "stream",
     "text": [
      "0       $796,459.41\n",
      "1           $278.60\n",
      "2       $482,571.67\n",
      "3     $4,503,915.98\n",
      "4      $2,121,418.3\n",
      "5      $1,260,813.3\n",
      "6        $87,231.01\n",
      "7     $1,509,175.45\n",
      "8     $4,138,548.00\n",
      "9     $2,848,913.80\n",
      "10      $594,715.39\n",
      "11    $4,789,988.17\n",
      "12     $4,513,644.5\n",
      "13    $3,191,059.97\n",
      "14    $1,758,712.24\n",
      "15    $4,338,283.54\n",
      "16    $4,738,303.38\n",
      "17    $2,791,759.67\n",
      "18      $769,681.94\n",
      "19      $452,650.23\n",
      "Name: Series2, dtype: object\n"
     ]
    }
   ],
   "source": [
    "Series2 = pd.Series(['$796,459.41', '$278.60', '$482,571.67', '$4,503,915.98', \n",
    "                     '$2,121,418.3', '$1,260,813.3', '$87,231.01', '$1,509,175.45', \n",
    "                     '$4,138,548.00', '$2,848,913.80', '$594,715.39', '$4,789,988.17', \n",
    "                     '$4,513,644.5', '$3,191,059.97', '$1,758,712.24', '$4,338,283.54', \n",
    "                     '$4,738,303.38', '$2,791,759.67', '$769,681.94', '$452,650.23'])\n",
    "Series2.name = 'Series2'\n",
    "print(Series2)"
   ]
  },
  {
   "cell_type": "code",
   "execution_count": 196,
   "metadata": {},
   "outputs": [],
   "source": [
    "task_2a = '2.a What is the data type of the series?'"
   ]
  },
  {
   "cell_type": "code",
   "execution_count": 205,
   "metadata": {},
   "outputs": [
    {
     "name": "stdout",
     "output_type": "stream",
     "text": [
      "\u001b[1m\u001b[34m2.a What is the data type of the series?\u001b[0m\u001b[0m\n",
      "\n",
      "object\n"
     ]
    }
   ],
   "source": [
    "print_title(task_2a)\n",
    "\n",
    "print(Series2.dtype)"
   ]
  },
  {
   "cell_type": "code",
   "execution_count": 198,
   "metadata": {},
   "outputs": [],
   "source": [
    "task_2b = '2.b. Use series operations to convert the series to a numeric data type.'"
   ]
  },
  {
   "cell_type": "code",
   "execution_count": 219,
   "metadata": {},
   "outputs": [
    {
     "name": "stdout",
     "output_type": "stream",
     "text": [
      "\u001b[1m\u001b[34m2.b. Use series operations to convert the series to a numeric data type.\u001b[0m\u001b[0m\n",
      "\n",
      "0      796459.41\n",
      "1         278.60\n",
      "2      482571.67\n",
      "3     4503915.98\n",
      "4     2121418.30\n",
      "5     1260813.30\n",
      "6       87231.01\n",
      "7     1509175.45\n",
      "8     4138548.00\n",
      "9     2848913.80\n",
      "10     594715.39\n",
      "11    4789988.17\n",
      "12    4513644.50\n",
      "13    3191059.97\n",
      "14    1758712.24\n",
      "15    4338283.54\n",
      "16    4738303.38\n",
      "17    2791759.67\n",
      "18     769681.94\n",
      "19     452650.23\n",
      "Name: Series2, dtype: float64\n"
     ]
    }
   ],
   "source": [
    "print_title(task_2b)\n",
    "\n",
    "amounts = Series2.apply(lambda wrd: float(''.join([ltr for ltr in wrd if ltr in '1234567890.'])))\n",
    "\n",
    "print(amounts)"
   ]
  },
  {
   "cell_type": "code",
   "execution_count": 130,
   "metadata": {},
   "outputs": [],
   "source": [
    "task_2c = '2.c. What is the maximum value? The minimum?'"
   ]
  },
  {
   "cell_type": "code",
   "execution_count": 220,
   "metadata": {},
   "outputs": [
    {
     "name": "stdout",
     "output_type": "stream",
     "text": [
      "\u001b[1m\u001b[34m2.c. What is the maximum value? The minimum?\u001b[0m\u001b[0m\n",
      "\n",
      "Minimum value = \u001b[32m$      278.60\u001b[0m\n",
      "Maximum value = \u001b[32m$  4789988.17\u001b[0m\n"
     ]
    }
   ],
   "source": [
    "print_title(task_2c)\n",
    "\n",
    "print(f'Minimum value = {Fore.GREEN}${amounts.min():>12.2f}{Style.RESET_ALL}')\n",
    "print(f'Maximum value = {Fore.GREEN}${amounts.max():>12.2f}{Style.RESET_ALL}')"
   ]
  },
  {
   "cell_type": "code",
   "execution_count": 132,
   "metadata": {},
   "outputs": [],
   "source": [
    "task_2d = '2.d. Bin the data into 4 equally sized intervals and show how many values fall into each bin.'"
   ]
  },
  {
   "cell_type": "code",
   "execution_count": 223,
   "metadata": {},
   "outputs": [
    {
     "name": "stdout",
     "output_type": "stream",
     "text": [
      "\u001b[1m\u001b[34m2.d. Bin the data into 4 equally sized intervals and show how many values fall into each bin.\u001b[0m\u001b[0m\n",
      "\n",
      "0        (-4511.11, 1197705.993]\n",
      "1        (-4511.11, 1197705.993]\n",
      "2        (-4511.11, 1197705.993]\n",
      "3      (3592560.778, 4789988.17]\n",
      "4     (1197705.993, 2395133.385]\n",
      "5     (1197705.993, 2395133.385]\n",
      "6        (-4511.11, 1197705.993]\n",
      "7     (1197705.993, 2395133.385]\n",
      "8      (3592560.778, 4789988.17]\n",
      "9     (2395133.385, 3592560.778]\n",
      "10       (-4511.11, 1197705.993]\n",
      "11     (3592560.778, 4789988.17]\n",
      "12     (3592560.778, 4789988.17]\n",
      "13    (2395133.385, 3592560.778]\n",
      "14    (1197705.993, 2395133.385]\n",
      "15     (3592560.778, 4789988.17]\n",
      "16     (3592560.778, 4789988.17]\n",
      "17    (2395133.385, 3592560.778]\n",
      "18       (-4511.11, 1197705.993]\n",
      "19       (-4511.11, 1197705.993]\n",
      "Name: Series2, dtype: category\n",
      "Categories (4, interval[float64]): [(-4511.11, 1197705.993] < (1197705.993, 2395133.385] < (2395133.385, 3592560.778] < (3592560.778, 4789988.17]]\n",
      "\u001b[1m\u001b[34mCounts by bin\u001b[0m\u001b[0m\n",
      "\n",
      "(-4511.11, 1197705.993]       7\n",
      "(3592560.778, 4789988.17]     6\n",
      "(1197705.993, 2395133.385]    4\n",
      "(2395133.385, 3592560.778]    3\n",
      "Name: Series2, dtype: int64\n"
     ]
    }
   ],
   "source": [
    "print_title(task_2d)\n",
    "\n",
    "amount_bins = pd.cut(amounts, 4)\n",
    "\n",
    "print(amount_bins)\n",
    "print_title('Counts by bin')\n",
    "print(amount_bins.value_counts())"
   ]
  },
  {
   "cell_type": "code",
   "execution_count": 134,
   "metadata": {},
   "outputs": [],
   "source": [
    "task_2e = '2.e. Plot a histogram of the data. Be sure to include a title and axis labels.'"
   ]
  },
  {
   "cell_type": "code",
   "execution_count": 135,
   "metadata": {},
   "outputs": [
    {
     "name": "stdout",
     "output_type": "stream",
     "text": [
      "\u001b[1m\u001b[34m1.e. Determine the most frequently occurring fruit name from the series.\u001b[0m\u001b[0m\n",
      "\n"
     ]
    }
   ],
   "source": [
    "print_title(task_1e)\n"
   ]
  },
  {
   "cell_type": "markdown",
   "metadata": {},
   "source": [
    "3. Use pandas to create a Series from the following exam scores:\n",
    "\n",
    "`[60, 86, 75, 62, 93, 71, 60, 83, 95, 78, 65, 72, 69, 81, 96, 80, 85, 92, 82, 78]`"
   ]
  },
  {
   "cell_type": "code",
   "execution_count": 146,
   "metadata": {},
   "outputs": [
    {
     "name": "stdout",
     "output_type": "stream",
     "text": [
      "0     60\n",
      "1     86\n",
      "2     75\n",
      "3     62\n",
      "4     93\n",
      "5     71\n",
      "6     60\n",
      "7     83\n",
      "8     95\n",
      "9     78\n",
      "10    65\n",
      "11    72\n",
      "12    69\n",
      "13    81\n",
      "14    96\n",
      "15    80\n",
      "16    85\n",
      "17    92\n",
      "18    82\n",
      "19    78\n",
      "Name: Series3, dtype: int64\n"
     ]
    }
   ],
   "source": [
    "Series3 = pd.Series([60, 86, 75, 62, 93, 71, 60, 83, 95, 78, 65, 72, 69, 81, 96, 80, 85, 92, 82, 78])\n",
    "Series3.name = 'Series3'\n",
    "print(Series3)"
   ]
  },
  {
   "cell_type": "code",
   "execution_count": 147,
   "metadata": {},
   "outputs": [],
   "source": [
    "task_3a = '3.a What is the minimum exam score? The max, mean, median?'"
   ]
  },
  {
   "cell_type": "code",
   "execution_count": 148,
   "metadata": {},
   "outputs": [
    {
     "name": "stdout",
     "output_type": "stream",
     "text": [
      "\u001b[1m\u001b[34m3.a What is the minimum exam score? The max, mean, median?\u001b[0m\u001b[0m\n",
      "\n"
     ]
    }
   ],
   "source": [
    "print_title(task_3a)\n"
   ]
  },
  {
   "cell_type": "code",
   "execution_count": 149,
   "metadata": {},
   "outputs": [],
   "source": [
    "task_3b = '3.b. Plot a histogram of the scores.'"
   ]
  },
  {
   "cell_type": "code",
   "execution_count": 150,
   "metadata": {},
   "outputs": [
    {
     "name": "stdout",
     "output_type": "stream",
     "text": [
      "\u001b[1m\u001b[34m3.b. Plot a histogram of the scores.\u001b[0m\u001b[0m\n",
      "\n"
     ]
    }
   ],
   "source": [
    "print_title(task_3b)\n"
   ]
  },
  {
   "cell_type": "code",
   "execution_count": 168,
   "metadata": {},
   "outputs": [],
   "source": [
    "task_3c = \"3.c. Convert each of the numbers above into a letter grade. \\n\"\\\n",
    "    \"For example, 86 should be a 'B' and 95 should be an 'A'.\""
   ]
  },
  {
   "cell_type": "code",
   "execution_count": 169,
   "metadata": {},
   "outputs": [
    {
     "name": "stdout",
     "output_type": "stream",
     "text": [
      "\u001b[1m\u001b[34m3.c. Convert each of the numbers above into a letter grade. \n",
      "For example, 86 should be a 'B' and 95 should be an 'A'.\u001b[0m\u001b[0m\n",
      "\n"
     ]
    }
   ],
   "source": [
    "print_title(task_3c)\n"
   ]
  },
  {
   "cell_type": "code",
   "execution_count": 174,
   "metadata": {},
   "outputs": [],
   "source": [
    "task_3d = '3.d Write the code necessary to implement a curve. I.e. that grade \\n'\\\n",
    "    'closest to 100 should be converted to a 100, and that many points \\n'\\\n",
    "    'should be given to every other score as well.'"
   ]
  },
  {
   "cell_type": "code",
   "execution_count": 175,
   "metadata": {},
   "outputs": [
    {
     "name": "stdout",
     "output_type": "stream",
     "text": [
      "\u001b[1m\u001b[34m3.d Write the code necessary to implement a curve. I.e. that grade \n",
      "closest to 100 should be converted to a 100, and that many points \n",
      "should be given to every other score as well.\u001b[0m\u001b[0m\n",
      "\n"
     ]
    }
   ],
   "source": [
    "print_title(task_3d)\n"
   ]
  },
  {
   "cell_type": "markdown",
   "metadata": {},
   "source": [
    "4. Use pandas to create a Series from the following string:\n",
    "\n",
    "`'hnvidduckkqxwymbimkccexbkmqygkxoyndmcxnwqarhyffsjpsrabtjzsypmzadfavyrnndndvswreauxovncxtwzpwejilzjrmmbbgbyxvjtewqthafnbkqplarokkyydtubbmnexoypulzwfhqvckdpqtpoppzqrmcvhhpwgjwupgzhiofohawytlsiyecuproguy'`"
   ]
  },
  {
   "cell_type": "code",
   "execution_count": 176,
   "metadata": {},
   "outputs": [
    {
     "name": "stdout",
     "output_type": "stream",
     "text": [
      "0    hnvidduckkqxwymbimkccexbkmqygkxoyndmcxnwqarhyf...\n",
      "dtype: object\n"
     ]
    }
   ],
   "source": [
    "Series4 = pd.Series('hnvidduckkqxwymbimkccexbkmqygkxoyndmcxnwqarhyffsjpsrabtjzsypmzadfavyrnndndvswreauxovncxtwzpwejilzjrmmbbgbyxvjtewqthafnbkqplarokkyydtubbmnexoypulzwfhqvckdpqtpoppzqrmcvhhpwgjwupgzhiofohawytlsiyecuproguy')\n",
    "print(Series4)"
   ]
  },
  {
   "cell_type": "code",
   "execution_count": 177,
   "metadata": {},
   "outputs": [],
   "source": [
    "task_4a = '4.a. What is the most frequently occuring letter? Least frequently occuring?'"
   ]
  },
  {
   "cell_type": "code",
   "execution_count": 178,
   "metadata": {},
   "outputs": [
    {
     "name": "stdout",
     "output_type": "stream",
     "text": [
      "\u001b[1m\u001b[34m4.a. What is the most frequently occuring letter? Least frequently occuring?\u001b[0m\u001b[0m\n",
      "\n"
     ]
    }
   ],
   "source": [
    "print_title(task_4a)\n"
   ]
  },
  {
   "cell_type": "code",
   "execution_count": 179,
   "metadata": {},
   "outputs": [],
   "source": [
    "task_4b = '4.b. How many vowels are in the list?'"
   ]
  },
  {
   "cell_type": "code",
   "execution_count": 180,
   "metadata": {},
   "outputs": [
    {
     "name": "stdout",
     "output_type": "stream",
     "text": [
      "\u001b[1m\u001b[34m4.b. How many vowels are in the list?\u001b[0m\u001b[0m\n",
      "\n"
     ]
    }
   ],
   "source": [
    "print_title(task_4b)\n"
   ]
  },
  {
   "cell_type": "code",
   "execution_count": 181,
   "metadata": {},
   "outputs": [],
   "source": [
    "task_4c = '4.c. How many consonants are in the list?'"
   ]
  },
  {
   "cell_type": "code",
   "execution_count": 182,
   "metadata": {},
   "outputs": [
    {
     "name": "stdout",
     "output_type": "stream",
     "text": [
      "\u001b[1m\u001b[34m4.c. How many consonants are in the list?\u001b[0m\u001b[0m\n",
      "\n"
     ]
    }
   ],
   "source": [
    "print_title(task_4c)\n"
   ]
  },
  {
   "cell_type": "code",
   "execution_count": 183,
   "metadata": {},
   "outputs": [],
   "source": [
    "task_4d = '4.d. Create a series that has all of the same letters, but uppercased'"
   ]
  },
  {
   "cell_type": "code",
   "execution_count": 186,
   "metadata": {},
   "outputs": [
    {
     "name": "stdout",
     "output_type": "stream",
     "text": [
      "\u001b[1m\u001b[34m4.d. Create a series that has all of the same letters, but uppercased\u001b[0m\u001b[0m\n",
      "\n"
     ]
    }
   ],
   "source": [
    "print_title(task_4d)\n"
   ]
  },
  {
   "cell_type": "code",
   "execution_count": 184,
   "metadata": {},
   "outputs": [],
   "source": [
    "task_4e = '4.e. Create a bar plot of the frequencies of the 6 most frequently occuring letters.'"
   ]
  },
  {
   "cell_type": "code",
   "execution_count": 185,
   "metadata": {},
   "outputs": [
    {
     "name": "stdout",
     "output_type": "stream",
     "text": [
      "\u001b[1m\u001b[34m4.e. Create a bar plot of the frequencies of the 6 most frequently occuring letters.\u001b[0m\u001b[0m\n",
      "\n"
     ]
    }
   ],
   "source": [
    "print_title(task_4e)\n"
   ]
  },
  {
   "cell_type": "code",
   "execution_count": null,
   "metadata": {},
   "outputs": [],
   "source": []
  }
 ],
 "metadata": {
  "kernelspec": {
   "display_name": "Python 3",
   "language": "python",
   "name": "python3"
  },
  "language_info": {
   "codemirror_mode": {
    "name": "ipython",
    "version": 3
   },
   "file_extension": ".py",
   "mimetype": "text/x-python",
   "name": "python",
   "nbconvert_exporter": "python",
   "pygments_lexer": "ipython3",
   "version": "3.7.3"
  }
 },
 "nbformat": 4,
 "nbformat_minor": 2
}
